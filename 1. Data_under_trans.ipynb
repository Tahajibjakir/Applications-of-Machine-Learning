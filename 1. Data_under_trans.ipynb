{
 "cells": [
  {
   "cell_type": "code",
   "execution_count": null,
   "metadata": {
    "id": "fBHvhRaVLFDF"
   },
   "outputs": [],
   "source": [
    "import pandas as pd \n",
    "import matplotlib.pyplot as plt\n",
    "import seaborn as sns"
   ]
  },
  {
   "cell_type": "code",
   "execution_count": null,
   "metadata": {
    "colab": {
     "base_uri": "https://localhost:8080/"
    },
    "executionInfo": {
     "elapsed": 22344,
     "status": "ok",
     "timestamp": 1656970558526,
     "user": {
      "displayName": "LUCA MARIANO",
      "userId": "13778859023738812030"
     },
     "user_tz": -120
    },
    "id": "RHeuqkqziDC-",
    "outputId": "041e2061-28ee-4dbb-c354-044f63374bb4"
   },
   "outputs": [
    {
     "name": "stdout",
     "output_type": "stream",
     "text": [
      "Mounted at /content/drive\n"
     ]
    }
   ],
   "source": [
    "from google.colab import drive\n",
    "drive.mount('/content/drive')"
   ]
  },
  {
   "cell_type": "markdown",
   "metadata": {
    "id": "4gcitZ6roFfV"
   },
   "source": [
    "Starting from the dataset "
   ]
  },
  {
   "cell_type": "code",
   "execution_count": null,
   "metadata": {
    "id": "XPeJVM97LFDM"
   },
   "outputs": [],
   "source": [
    "data = pd.read_csv(\"/content/drive/Shareddrives/Social Network Analysis/all_reviews_raw.csv\")"
   ]
  },
  {
   "cell_type": "code",
   "execution_count": null,
   "metadata": {
    "colab": {
     "base_uri": "https://localhost:8080/"
    },
    "executionInfo": {
     "elapsed": 291,
     "status": "ok",
     "timestamp": 1656970598219,
     "user": {
      "displayName": "LUCA MARIANO",
      "userId": "13778859023738812030"
     },
     "user_tz": -120
    },
    "id": "1dQ2PzB3olqa",
    "outputId": "727f1306-2f8b-49eb-b288-824b3a0aa023"
   },
   "outputs": [
    {
     "data": {
      "text/plain": [
       "(591570, 16)"
      ]
     },
     "execution_count": 4,
     "metadata": {},
     "output_type": "execute_result"
    }
   ],
   "source": [
    "data.shape"
   ]
  },
  {
   "cell_type": "code",
   "execution_count": null,
   "metadata": {
    "colab": {
     "base_uri": "https://localhost:8080/"
    },
    "executionInfo": {
     "elapsed": 288,
     "status": "ok",
     "timestamp": 1656970600251,
     "user": {
      "displayName": "LUCA MARIANO",
      "userId": "13778859023738812030"
     },
     "user_tz": -120
    },
    "id": "S9_SgjleonEF",
    "outputId": "9f0b0bec-c57d-45d3-90e2-749099c58693"
   },
   "outputs": [
    {
     "data": {
      "text/plain": [
       "5.0    228092\n",
       "4.0    186232\n",
       "3.0     92256\n",
       "2.0     41097\n",
       "1.0     28700\n",
       "Name: rating, dtype: int64"
      ]
     },
     "execution_count": 5,
     "metadata": {},
     "output_type": "execute_result"
    }
   ],
   "source": [
    "data.rating.value_counts()"
   ]
  },
  {
   "cell_type": "code",
   "execution_count": null,
   "metadata": {
    "colab": {
     "base_uri": "https://localhost:8080/"
    },
    "executionInfo": {
     "elapsed": 416,
     "status": "ok",
     "timestamp": 1656970601779,
     "user": {
      "displayName": "LUCA MARIANO",
      "userId": "13778859023738812030"
     },
     "user_tz": -120
    },
    "id": "v8qx3e_BihK3",
    "outputId": "28c31609-b62a-4893-bddf-ebde254f16d2"
   },
   "outputs": [
    {
     "data": {
      "text/plain": [
       "216514"
      ]
     },
     "execution_count": 6,
     "metadata": {},
     "output_type": "execute_result"
    }
   ],
   "source": [
    "uni_user = data['user_url'].unique()\n",
    "len(uni_user)\n",
    "#number of unique users"
   ]
  },
  {
   "cell_type": "code",
   "execution_count": null,
   "metadata": {
    "colab": {
     "base_uri": "https://localhost:8080/"
    },
    "executionInfo": {
     "elapsed": 10,
     "status": "ok",
     "timestamp": 1656970603056,
     "user": {
      "displayName": "LUCA MARIANO",
      "userId": "13778859023738812030"
     },
     "user_tz": -120
    },
    "id": "BGFT-T6Llf83",
    "outputId": "d0b78dc8-1256-476b-a6dd-a7b95378ab7e"
   },
   "outputs": [
    {
     "data": {
      "text/plain": [
       "3155"
      ]
     },
     "execution_count": 7,
     "metadata": {},
     "output_type": "execute_result"
    }
   ],
   "source": [
    "num_book = data['book_title'].unique()\n",
    "len(num_book)\n",
    "#number of unique books"
   ]
  },
  {
   "cell_type": "code",
   "execution_count": null,
   "metadata": {
    "colab": {
     "base_uri": "https://localhost:8080/",
     "height": 441
    },
    "executionInfo": {
     "elapsed": 20,
     "status": "ok",
     "timestamp": 1656970604602,
     "user": {
      "displayName": "LUCA MARIANO",
      "userId": "13778859023738812030"
     },
     "user_tz": -120
    },
    "id": "VU1OUea6o6MQ",
    "outputId": "179fd27e-4664-4c40-a989-626f2eff6066"
   },
   "outputs": [
    {
     "data": {
      "text/html": [
       "\n",
       "  <div id=\"df-19c50534-f869-47c8-bbdb-f73717cbf2c3\">\n",
       "    <div class=\"colab-df-container\">\n",
       "      <div>\n",
       "<style scoped>\n",
       "    .dataframe tbody tr th:only-of-type {\n",
       "        vertical-align: middle;\n",
       "    }\n",
       "\n",
       "    .dataframe tbody tr th {\n",
       "        vertical-align: top;\n",
       "    }\n",
       "\n",
       "    .dataframe thead th {\n",
       "        text-align: right;\n",
       "    }\n",
       "</style>\n",
       "<table border=\"1\" class=\"dataframe\">\n",
       "  <thead>\n",
       "    <tr style=\"text-align: right;\">\n",
       "      <th></th>\n",
       "      <th>book_id_title</th>\n",
       "      <th>book_id</th>\n",
       "      <th>book_title</th>\n",
       "      <th>review_url</th>\n",
       "      <th>review_id</th>\n",
       "      <th>date</th>\n",
       "      <th>rating</th>\n",
       "      <th>user_name</th>\n",
       "      <th>user_url</th>\n",
       "      <th>text</th>\n",
       "      <th>num_likes</th>\n",
       "      <th>sort_order</th>\n",
       "      <th>shelves</th>\n",
       "      <th>len_text</th>\n",
       "      <th>gender</th>\n",
       "      <th>language</th>\n",
       "    </tr>\n",
       "  </thead>\n",
       "  <tbody>\n",
       "    <tr>\n",
       "      <th>0</th>\n",
       "      <td>7507825-at-home</td>\n",
       "      <td>7507825-at-home</td>\n",
       "      <td>At Home: A Short History of Private Life</td>\n",
       "      <td>https://www.goodreads.com/review/show/126924852</td>\n",
       "      <td>126924852</td>\n",
       "      <td>2010-10-19</td>\n",
       "      <td>4.0</td>\n",
       "      <td>Sonja</td>\n",
       "      <td>/user/show/4436063-sonja</td>\n",
       "      <td>I came across a review that dismissed Bill Bry...</td>\n",
       "      <td>343</td>\n",
       "      <td>default</td>\n",
       "      <td>[]</td>\n",
       "      <td>5373</td>\n",
       "      <td>female</td>\n",
       "      <td>en</td>\n",
       "    </tr>\n",
       "    <tr>\n",
       "      <th>1</th>\n",
       "      <td>7507825-at-home</td>\n",
       "      <td>7507825-at-home</td>\n",
       "      <td>At Home: A Short History of Private Life</td>\n",
       "      <td>https://www.goodreads.com/review/show/152923814</td>\n",
       "      <td>152923814</td>\n",
       "      <td>2011-03-08</td>\n",
       "      <td>5.0</td>\n",
       "      <td>Anita</td>\n",
       "      <td>/user/show/999171-anita</td>\n",
       "      <td>If Bill Bryson and Sarah Vowell wrote all the ...</td>\n",
       "      <td>146</td>\n",
       "      <td>default</td>\n",
       "      <td>['non-fiction']</td>\n",
       "      <td>1236</td>\n",
       "      <td>female</td>\n",
       "      <td>en</td>\n",
       "    </tr>\n",
       "    <tr>\n",
       "      <th>2</th>\n",
       "      <td>7507825-at-home</td>\n",
       "      <td>7507825-at-home</td>\n",
       "      <td>At Home: A Short History of Private Life</td>\n",
       "      <td>https://www.goodreads.com/review/show/2177542316</td>\n",
       "      <td>2177542316</td>\n",
       "      <td>2017-11-13</td>\n",
       "      <td>5.0</td>\n",
       "      <td>Miranda Reads</td>\n",
       "      <td>/user/show/71848701-miranda-reads</td>\n",
       "      <td>\\n\\nLooking for a new book but don't want to c...</td>\n",
       "      <td>127</td>\n",
       "      <td>default</td>\n",
       "      <td>['audiobook']</td>\n",
       "      <td>2162</td>\n",
       "      <td>female</td>\n",
       "      <td>en</td>\n",
       "    </tr>\n",
       "    <tr>\n",
       "      <th>3</th>\n",
       "      <td>7507825-at-home</td>\n",
       "      <td>7507825-at-home</td>\n",
       "      <td>At Home: A Short History of Private Life</td>\n",
       "      <td>https://www.goodreads.com/review/show/1610026093</td>\n",
       "      <td>1610026093</td>\n",
       "      <td>2016-04-14</td>\n",
       "      <td>3.0</td>\n",
       "      <td>Roy Lotz</td>\n",
       "      <td>/user/show/14046996-roy-lotz</td>\n",
       "      <td>Reading this book is rather like having a triv...</td>\n",
       "      <td>81</td>\n",
       "      <td>default</td>\n",
       "      <td>['one-damn-thing-after-another']</td>\n",
       "      <td>164</td>\n",
       "      <td>male</td>\n",
       "      <td>en</td>\n",
       "    </tr>\n",
       "    <tr>\n",
       "      <th>4</th>\n",
       "      <td>7507825-at-home</td>\n",
       "      <td>7507825-at-home</td>\n",
       "      <td>At Home: A Short History of Private Life</td>\n",
       "      <td>https://www.goodreads.com/review/show/106555177</td>\n",
       "      <td>106555177</td>\n",
       "      <td>2010-06-10</td>\n",
       "      <td>3.0</td>\n",
       "      <td>Erin</td>\n",
       "      <td>/user/show/2050376-erin</td>\n",
       "      <td>Let me preface this review by saying that, yes...</td>\n",
       "      <td>80</td>\n",
       "      <td>default</td>\n",
       "      <td>['history-and-biography']</td>\n",
       "      <td>1328</td>\n",
       "      <td>female</td>\n",
       "      <td>en</td>\n",
       "    </tr>\n",
       "  </tbody>\n",
       "</table>\n",
       "</div>\n",
       "      <button class=\"colab-df-convert\" onclick=\"convertToInteractive('df-19c50534-f869-47c8-bbdb-f73717cbf2c3')\"\n",
       "              title=\"Convert this dataframe to an interactive table.\"\n",
       "              style=\"display:none;\">\n",
       "        \n",
       "  <svg xmlns=\"http://www.w3.org/2000/svg\" height=\"24px\"viewBox=\"0 0 24 24\"\n",
       "       width=\"24px\">\n",
       "    <path d=\"M0 0h24v24H0V0z\" fill=\"none\"/>\n",
       "    <path d=\"M18.56 5.44l.94 2.06.94-2.06 2.06-.94-2.06-.94-.94-2.06-.94 2.06-2.06.94zm-11 1L8.5 8.5l.94-2.06 2.06-.94-2.06-.94L8.5 2.5l-.94 2.06-2.06.94zm10 10l.94 2.06.94-2.06 2.06-.94-2.06-.94-.94-2.06-.94 2.06-2.06.94z\"/><path d=\"M17.41 7.96l-1.37-1.37c-.4-.4-.92-.59-1.43-.59-.52 0-1.04.2-1.43.59L10.3 9.45l-7.72 7.72c-.78.78-.78 2.05 0 2.83L4 21.41c.39.39.9.59 1.41.59.51 0 1.02-.2 1.41-.59l7.78-7.78 2.81-2.81c.8-.78.8-2.07 0-2.86zM5.41 20L4 18.59l7.72-7.72 1.47 1.35L5.41 20z\"/>\n",
       "  </svg>\n",
       "      </button>\n",
       "      \n",
       "  <style>\n",
       "    .colab-df-container {\n",
       "      display:flex;\n",
       "      flex-wrap:wrap;\n",
       "      gap: 12px;\n",
       "    }\n",
       "\n",
       "    .colab-df-convert {\n",
       "      background-color: #E8F0FE;\n",
       "      border: none;\n",
       "      border-radius: 50%;\n",
       "      cursor: pointer;\n",
       "      display: none;\n",
       "      fill: #1967D2;\n",
       "      height: 32px;\n",
       "      padding: 0 0 0 0;\n",
       "      width: 32px;\n",
       "    }\n",
       "\n",
       "    .colab-df-convert:hover {\n",
       "      background-color: #E2EBFA;\n",
       "      box-shadow: 0px 1px 2px rgba(60, 64, 67, 0.3), 0px 1px 3px 1px rgba(60, 64, 67, 0.15);\n",
       "      fill: #174EA6;\n",
       "    }\n",
       "\n",
       "    [theme=dark] .colab-df-convert {\n",
       "      background-color: #3B4455;\n",
       "      fill: #D2E3FC;\n",
       "    }\n",
       "\n",
       "    [theme=dark] .colab-df-convert:hover {\n",
       "      background-color: #434B5C;\n",
       "      box-shadow: 0px 1px 3px 1px rgba(0, 0, 0, 0.15);\n",
       "      filter: drop-shadow(0px 1px 2px rgba(0, 0, 0, 0.3));\n",
       "      fill: #FFFFFF;\n",
       "    }\n",
       "  </style>\n",
       "\n",
       "      <script>\n",
       "        const buttonEl =\n",
       "          document.querySelector('#df-19c50534-f869-47c8-bbdb-f73717cbf2c3 button.colab-df-convert');\n",
       "        buttonEl.style.display =\n",
       "          google.colab.kernel.accessAllowed ? 'block' : 'none';\n",
       "\n",
       "        async function convertToInteractive(key) {\n",
       "          const element = document.querySelector('#df-19c50534-f869-47c8-bbdb-f73717cbf2c3');\n",
       "          const dataTable =\n",
       "            await google.colab.kernel.invokeFunction('convertToInteractive',\n",
       "                                                     [key], {});\n",
       "          if (!dataTable) return;\n",
       "\n",
       "          const docLinkHtml = 'Like what you see? Visit the ' +\n",
       "            '<a target=\"_blank\" href=https://colab.research.google.com/notebooks/data_table.ipynb>data table notebook</a>'\n",
       "            + ' to learn more about interactive tables.';\n",
       "          element.innerHTML = '';\n",
       "          dataTable['output_type'] = 'display_data';\n",
       "          await google.colab.output.renderOutput(dataTable, element);\n",
       "          const docLink = document.createElement('div');\n",
       "          docLink.innerHTML = docLinkHtml;\n",
       "          element.appendChild(docLink);\n",
       "        }\n",
       "      </script>\n",
       "    </div>\n",
       "  </div>\n",
       "  "
      ],
      "text/plain": [
       "     book_id_title          book_id                                book_title  \\\n",
       "0  7507825-at-home  7507825-at-home  At Home: A Short History of Private Life   \n",
       "1  7507825-at-home  7507825-at-home  At Home: A Short History of Private Life   \n",
       "2  7507825-at-home  7507825-at-home  At Home: A Short History of Private Life   \n",
       "3  7507825-at-home  7507825-at-home  At Home: A Short History of Private Life   \n",
       "4  7507825-at-home  7507825-at-home  At Home: A Short History of Private Life   \n",
       "\n",
       "                                         review_url   review_id        date  \\\n",
       "0   https://www.goodreads.com/review/show/126924852   126924852  2010-10-19   \n",
       "1   https://www.goodreads.com/review/show/152923814   152923814  2011-03-08   \n",
       "2  https://www.goodreads.com/review/show/2177542316  2177542316  2017-11-13   \n",
       "3  https://www.goodreads.com/review/show/1610026093  1610026093  2016-04-14   \n",
       "4   https://www.goodreads.com/review/show/106555177   106555177  2010-06-10   \n",
       "\n",
       "   rating      user_name                           user_url  \\\n",
       "0     4.0          Sonja           /user/show/4436063-sonja   \n",
       "1     5.0          Anita            /user/show/999171-anita   \n",
       "2     5.0  Miranda Reads  /user/show/71848701-miranda-reads   \n",
       "3     3.0       Roy Lotz       /user/show/14046996-roy-lotz   \n",
       "4     3.0           Erin            /user/show/2050376-erin   \n",
       "\n",
       "                                                text  num_likes sort_order  \\\n",
       "0  I came across a review that dismissed Bill Bry...        343    default   \n",
       "1  If Bill Bryson and Sarah Vowell wrote all the ...        146    default   \n",
       "2  \\n\\nLooking for a new book but don't want to c...        127    default   \n",
       "3  Reading this book is rather like having a triv...         81    default   \n",
       "4  Let me preface this review by saying that, yes...         80    default   \n",
       "\n",
       "                            shelves  len_text  gender language  \n",
       "0                                []      5373  female       en  \n",
       "1                   ['non-fiction']      1236  female       en  \n",
       "2                     ['audiobook']      2162  female       en  \n",
       "3  ['one-damn-thing-after-another']       164    male       en  \n",
       "4         ['history-and-biography']      1328  female       en  "
      ]
     },
     "execution_count": 8,
     "metadata": {},
     "output_type": "execute_result"
    }
   ],
   "source": [
    "data.head()"
   ]
  },
  {
   "cell_type": "markdown",
   "metadata": {
    "id": "vowXl5U8pHvK"
   },
   "source": [
    "Using this dataset, we created a dictionary where each unique user is associated with his or her read books (writing a review means have read that book)"
   ]
  },
  {
   "cell_type": "code",
   "execution_count": null,
   "metadata": {
    "id": "mKJBIaBNn7St"
   },
   "outputs": [],
   "source": [
    "#intialize empty dictionary\n",
    "dizio=dict()\n",
    "for elem in uni_user:\n",
    "  dizio[elem]=set()"
   ]
  },
  {
   "cell_type": "code",
   "execution_count": null,
   "metadata": {
    "id": "LJuLG3WX0xAQ"
   },
   "outputs": [],
   "source": [
    "#filling with his or her read books\n",
    "for _,row in data.iterrows():\n",
    "  dizio[row['user_url']].add(row['book_id_title'])"
   ]
  },
  {
   "cell_type": "code",
   "execution_count": null,
   "metadata": {
    "colab": {
     "base_uri": "https://localhost:8080/"
    },
    "executionInfo": {
     "elapsed": 22,
     "status": "ok",
     "timestamp": 1656970641152,
     "user": {
      "displayName": "LUCA MARIANO",
      "userId": "13778859023738812030"
     },
     "user_tz": -120
    },
    "id": "tbINXrMQqk6i",
    "outputId": "78eac8e6-bb05-41c5-8753-07ac6c7b7257"
   },
   "outputs": [
    {
     "data": {
      "text/plain": [
       "216514"
      ]
     },
     "execution_count": 11,
     "metadata": {},
     "output_type": "execute_result"
    }
   ],
   "source": [
    "len(dizio)"
   ]
  },
  {
   "cell_type": "markdown",
   "metadata": {
    "id": "BeXOVoiXJYc6"
   },
   "source": [
    "# distribution of books"
   ]
  },
  {
   "cell_type": "markdown",
   "metadata": {
    "id": "xVy9mDpDqzhQ"
   },
   "source": [
    "In order to show the distribution of books by users, we generated a specific dataframe"
   ]
  },
  {
   "cell_type": "code",
   "execution_count": null,
   "metadata": {
    "id": "8bHCbzSqqngX"
   },
   "outputs": [],
   "source": [
    "df_books = pd.DataFrame(list(dizio.items()), columns=['User', \"Books\"])"
   ]
  },
  {
   "cell_type": "code",
   "execution_count": null,
   "metadata": {
    "id": "wYGsVYz-qpQe"
   },
   "outputs": [],
   "source": [
    "df_books[\"NumOfBooks\"] = df_books[\"Books\"].apply(lambda x: len(x))\n",
    "#number of books per user"
   ]
  },
  {
   "cell_type": "code",
   "execution_count": null,
   "metadata": {
    "colab": {
     "base_uri": "https://localhost:8080/",
     "height": 424
    },
    "executionInfo": {
     "elapsed": 22,
     "status": "ok",
     "timestamp": 1656939876118,
     "user": {
      "displayName": "SAVERIO TELERA",
      "userId": "04328358436638076279"
     },
     "user_tz": -120
    },
    "id": "d9Ej6NNBqpEn",
    "outputId": "f1763d85-c2c7-4944-a924-ed8747df4bb2"
   },
   "outputs": [
    {
     "data": {
      "text/html": [
       "\n",
       "  <div id=\"df-6b11443c-bf8c-44d7-af09-6965aed4bcba\">\n",
       "    <div class=\"colab-df-container\">\n",
       "      <div>\n",
       "<style scoped>\n",
       "    .dataframe tbody tr th:only-of-type {\n",
       "        vertical-align: middle;\n",
       "    }\n",
       "\n",
       "    .dataframe tbody tr th {\n",
       "        vertical-align: top;\n",
       "    }\n",
       "\n",
       "    .dataframe thead th {\n",
       "        text-align: right;\n",
       "    }\n",
       "</style>\n",
       "<table border=\"1\" class=\"dataframe\">\n",
       "  <thead>\n",
       "    <tr style=\"text-align: right;\">\n",
       "      <th></th>\n",
       "      <th>User</th>\n",
       "      <th>Books</th>\n",
       "      <th>NumOfBooks</th>\n",
       "    </tr>\n",
       "  </thead>\n",
       "  <tbody>\n",
       "    <tr>\n",
       "      <th>0</th>\n",
       "      <td>/user/show/4436063-sonja</td>\n",
       "      <td>{7507825-at-home}</td>\n",
       "      <td>1</td>\n",
       "    </tr>\n",
       "    <tr>\n",
       "      <th>1</th>\n",
       "      <td>/user/show/999171-anita</td>\n",
       "      <td>{818811.Escape, 10996342-the-art-of-fielding, ...</td>\n",
       "      <td>22</td>\n",
       "    </tr>\n",
       "    <tr>\n",
       "      <th>2</th>\n",
       "      <td>/user/show/71848701-miranda-reads</td>\n",
       "      <td>{18478222-twelve-years-a-slave, 23453112-moder...</td>\n",
       "      <td>238</td>\n",
       "    </tr>\n",
       "    <tr>\n",
       "      <th>3</th>\n",
       "      <td>/user/show/14046996-roy-lotz</td>\n",
       "      <td>{1540.The_Oedipus_Cycle, 23453112-modern-roman...</td>\n",
       "      <td>221</td>\n",
       "    </tr>\n",
       "    <tr>\n",
       "      <th>4</th>\n",
       "      <td>/user/show/2050376-erin</td>\n",
       "      <td>{1540.The_Oedipus_Cycle, 4806.Longitude, 75078...</td>\n",
       "      <td>6</td>\n",
       "    </tr>\n",
       "    <tr>\n",
       "      <th>...</th>\n",
       "      <td>...</td>\n",
       "      <td>...</td>\n",
       "      <td>...</td>\n",
       "    </tr>\n",
       "    <tr>\n",
       "      <th>216509</th>\n",
       "      <td>/user/show/129899816-jess-ogan</td>\n",
       "      <td>{92308.The_Importance_of_Being_Earnest_and_Oth...</td>\n",
       "      <td>1</td>\n",
       "    </tr>\n",
       "    <tr>\n",
       "      <th>216510</th>\n",
       "      <td>/user/show/136535896-charlotte-r</td>\n",
       "      <td>{92308.The_Importance_of_Being_Earnest_and_Oth...</td>\n",
       "      <td>1</td>\n",
       "    </tr>\n",
       "    <tr>\n",
       "      <th>216511</th>\n",
       "      <td>/user/show/29501510-alice</td>\n",
       "      <td>{92308.The_Importance_of_Being_Earnest_and_Oth...</td>\n",
       "      <td>1</td>\n",
       "    </tr>\n",
       "    <tr>\n",
       "      <th>216512</th>\n",
       "      <td>/user/show/38548655-julia-lara</td>\n",
       "      <td>{92308.The_Importance_of_Being_Earnest_and_Oth...</td>\n",
       "      <td>1</td>\n",
       "    </tr>\n",
       "    <tr>\n",
       "      <th>216513</th>\n",
       "      <td>/user/show/111066206-lena</td>\n",
       "      <td>{92308.The_Importance_of_Being_Earnest_and_Oth...</td>\n",
       "      <td>1</td>\n",
       "    </tr>\n",
       "  </tbody>\n",
       "</table>\n",
       "<p>216514 rows × 3 columns</p>\n",
       "</div>\n",
       "      <button class=\"colab-df-convert\" onclick=\"convertToInteractive('df-6b11443c-bf8c-44d7-af09-6965aed4bcba')\"\n",
       "              title=\"Convert this dataframe to an interactive table.\"\n",
       "              style=\"display:none;\">\n",
       "        \n",
       "  <svg xmlns=\"http://www.w3.org/2000/svg\" height=\"24px\"viewBox=\"0 0 24 24\"\n",
       "       width=\"24px\">\n",
       "    <path d=\"M0 0h24v24H0V0z\" fill=\"none\"/>\n",
       "    <path d=\"M18.56 5.44l.94 2.06.94-2.06 2.06-.94-2.06-.94-.94-2.06-.94 2.06-2.06.94zm-11 1L8.5 8.5l.94-2.06 2.06-.94-2.06-.94L8.5 2.5l-.94 2.06-2.06.94zm10 10l.94 2.06.94-2.06 2.06-.94-2.06-.94-.94-2.06-.94 2.06-2.06.94z\"/><path d=\"M17.41 7.96l-1.37-1.37c-.4-.4-.92-.59-1.43-.59-.52 0-1.04.2-1.43.59L10.3 9.45l-7.72 7.72c-.78.78-.78 2.05 0 2.83L4 21.41c.39.39.9.59 1.41.59.51 0 1.02-.2 1.41-.59l7.78-7.78 2.81-2.81c.8-.78.8-2.07 0-2.86zM5.41 20L4 18.59l7.72-7.72 1.47 1.35L5.41 20z\"/>\n",
       "  </svg>\n",
       "      </button>\n",
       "      \n",
       "  <style>\n",
       "    .colab-df-container {\n",
       "      display:flex;\n",
       "      flex-wrap:wrap;\n",
       "      gap: 12px;\n",
       "    }\n",
       "\n",
       "    .colab-df-convert {\n",
       "      background-color: #E8F0FE;\n",
       "      border: none;\n",
       "      border-radius: 50%;\n",
       "      cursor: pointer;\n",
       "      display: none;\n",
       "      fill: #1967D2;\n",
       "      height: 32px;\n",
       "      padding: 0 0 0 0;\n",
       "      width: 32px;\n",
       "    }\n",
       "\n",
       "    .colab-df-convert:hover {\n",
       "      background-color: #E2EBFA;\n",
       "      box-shadow: 0px 1px 2px rgba(60, 64, 67, 0.3), 0px 1px 3px 1px rgba(60, 64, 67, 0.15);\n",
       "      fill: #174EA6;\n",
       "    }\n",
       "\n",
       "    [theme=dark] .colab-df-convert {\n",
       "      background-color: #3B4455;\n",
       "      fill: #D2E3FC;\n",
       "    }\n",
       "\n",
       "    [theme=dark] .colab-df-convert:hover {\n",
       "      background-color: #434B5C;\n",
       "      box-shadow: 0px 1px 3px 1px rgba(0, 0, 0, 0.15);\n",
       "      filter: drop-shadow(0px 1px 2px rgba(0, 0, 0, 0.3));\n",
       "      fill: #FFFFFF;\n",
       "    }\n",
       "  </style>\n",
       "\n",
       "      <script>\n",
       "        const buttonEl =\n",
       "          document.querySelector('#df-6b11443c-bf8c-44d7-af09-6965aed4bcba button.colab-df-convert');\n",
       "        buttonEl.style.display =\n",
       "          google.colab.kernel.accessAllowed ? 'block' : 'none';\n",
       "\n",
       "        async function convertToInteractive(key) {\n",
       "          const element = document.querySelector('#df-6b11443c-bf8c-44d7-af09-6965aed4bcba');\n",
       "          const dataTable =\n",
       "            await google.colab.kernel.invokeFunction('convertToInteractive',\n",
       "                                                     [key], {});\n",
       "          if (!dataTable) return;\n",
       "\n",
       "          const docLinkHtml = 'Like what you see? Visit the ' +\n",
       "            '<a target=\"_blank\" href=https://colab.research.google.com/notebooks/data_table.ipynb>data table notebook</a>'\n",
       "            + ' to learn more about interactive tables.';\n",
       "          element.innerHTML = '';\n",
       "          dataTable['output_type'] = 'display_data';\n",
       "          await google.colab.output.renderOutput(dataTable, element);\n",
       "          const docLink = document.createElement('div');\n",
       "          docLink.innerHTML = docLinkHtml;\n",
       "          element.appendChild(docLink);\n",
       "        }\n",
       "      </script>\n",
       "    </div>\n",
       "  </div>\n",
       "  "
      ],
      "text/plain": [
       "                                     User  \\\n",
       "0                /user/show/4436063-sonja   \n",
       "1                 /user/show/999171-anita   \n",
       "2       /user/show/71848701-miranda-reads   \n",
       "3            /user/show/14046996-roy-lotz   \n",
       "4                 /user/show/2050376-erin   \n",
       "...                                   ...   \n",
       "216509     /user/show/129899816-jess-ogan   \n",
       "216510   /user/show/136535896-charlotte-r   \n",
       "216511          /user/show/29501510-alice   \n",
       "216512     /user/show/38548655-julia-lara   \n",
       "216513          /user/show/111066206-lena   \n",
       "\n",
       "                                                    Books  NumOfBooks  \n",
       "0                                       {7507825-at-home}           1  \n",
       "1       {818811.Escape, 10996342-the-art-of-fielding, ...          22  \n",
       "2       {18478222-twelve-years-a-slave, 23453112-moder...         238  \n",
       "3       {1540.The_Oedipus_Cycle, 23453112-modern-roman...         221  \n",
       "4       {1540.The_Oedipus_Cycle, 4806.Longitude, 75078...           6  \n",
       "...                                                   ...         ...  \n",
       "216509  {92308.The_Importance_of_Being_Earnest_and_Oth...           1  \n",
       "216510  {92308.The_Importance_of_Being_Earnest_and_Oth...           1  \n",
       "216511  {92308.The_Importance_of_Being_Earnest_and_Oth...           1  \n",
       "216512  {92308.The_Importance_of_Being_Earnest_and_Oth...           1  \n",
       "216513  {92308.The_Importance_of_Being_Earnest_and_Oth...           1  \n",
       "\n",
       "[216514 rows x 3 columns]"
      ]
     },
     "execution_count": 14,
     "metadata": {},
     "output_type": "execute_result"
    }
   ],
   "source": [
    "df_books"
   ]
  },
  {
   "cell_type": "code",
   "execution_count": null,
   "metadata": {
    "colab": {
     "base_uri": "https://localhost:8080/"
    },
    "executionInfo": {
     "elapsed": 22,
     "status": "ok",
     "timestamp": 1656939876120,
     "user": {
      "displayName": "SAVERIO TELERA",
      "userId": "04328358436638076279"
     },
     "user_tz": -120
    },
    "id": "yHAji2ioqpbS",
    "outputId": "a2509b7f-5c98-4257-854f-e37352c95e79"
   },
   "outputs": [
    {
     "data": {
      "text/plain": [
       "432"
      ]
     },
     "execution_count": 15,
     "metadata": {},
     "output_type": "execute_result"
    }
   ],
   "source": [
    "df_books[\"NumOfBooks\"].max()"
   ]
  },
  {
   "cell_type": "code",
   "execution_count": null,
   "metadata": {
    "colab": {
     "base_uri": "https://localhost:8080/",
     "height": 427
    },
    "executionInfo": {
     "elapsed": 1652,
     "status": "ok",
     "timestamp": 1656939877991,
     "user": {
      "displayName": "SAVERIO TELERA",
      "userId": "04328358436638076279"
     },
     "user_tz": -120
    },
    "id": "NypqNaFKqpfZ",
    "outputId": "8575cf42-49f2-4f68-8b58-8ea717664454"
   },
   "outputs": [
    {
     "data": {
      "text/plain": [
       "(0.0, 50.0)"
      ]
     },
     "execution_count": 16,
     "metadata": {},
     "output_type": "execute_result"
    },
    {
     "data": {
      "image/png": "[encoded data removed]",
      "text/plain": [
       "<Figure size 792x432 with 1 Axes>"
      ]
     },
     "metadata": {},
     "output_type": "display_data"
    }
   ],
   "source": [
    "sns.set()\n",
    "fig, ax = plt.subplots(figsize=(11, 6))\n",
    "sns.kdeplot(data=df_books, x=\"NumOfBooks\", shade = True, color = 'Green')\n",
    "\n",
    "ax.set_title('Distribution of Books')\n",
    "ax.set_xlim([0,50])"
   ]
  },
  {
   "cell_type": "code",
   "execution_count": null,
   "metadata": {
    "colab": {
     "base_uri": "https://localhost:8080/",
     "height": 263
    },
    "executionInfo": {
     "elapsed": 1733,
     "status": "ok",
     "timestamp": 1656939879717,
     "user": {
      "displayName": "SAVERIO TELERA",
      "userId": "04328358436638076279"
     },
     "user_tz": -120
    },
    "id": "ZitQZbyLqpjF",
    "outputId": "55ade71b-bb23-4333-b0f3-2305de2482d5"
   },
   "outputs": [
    {
     "data": {
      "text/plain": [
       "(0.0, 10.0)"
      ]
     },
     "execution_count": 17,
     "metadata": {},
     "output_type": "execute_result"
    },
    {
     "data": {
      "image/png": "[encoded data removed]",
      "text/plain": [
       "<Figure size 432x216 with 1 Axes>"
      ]
     },
     "metadata": {},
     "output_type": "display_data"
    }
   ],
   "source": [
    "fig, ax = plt.subplots(figsize=(6, 3))\n",
    "sns.kdeplot(data=df_books, x=\"NumOfBooks\",  shade = True, color = 'Red')\n",
    "\n",
    "ax.set_title('Zoom on Distribution of Books')\n",
    "ax.set_xlim([0,10])"
   ]
  },
  {
   "cell_type": "markdown",
   "metadata": {
    "id": "C0ie41aSsJfa"
   },
   "source": [
    "# distribution of rating per user"
   ]
  },
  {
   "cell_type": "code",
   "execution_count": null,
   "metadata": {
    "colab": {
     "base_uri": "https://localhost:8080/",
     "height": 268
    },
    "executionInfo": {
     "elapsed": 612,
     "status": "ok",
     "timestamp": 1656939880323,
     "user": {
      "displayName": "SAVERIO TELERA",
      "userId": "04328358436638076279"
     },
     "user_tz": -120
    },
    "id": "QXBn5m0Kqpm-",
    "outputId": "f3e5f527-f8a2-4c65-c1fe-c8d2f4b7ccca"
   },
   "outputs": [
    {
     "data": {
      "image/png": "[encoded data removed]",
      "text/plain": [
       "<Figure size 432x288 with 1 Axes>"
      ]
     },
     "metadata": {},
     "output_type": "display_data"
    }
   ],
   "source": [
    "plt.figure()\n",
    "data['rating'].hist()\n",
    "plt.show()"
   ]
  },
  {
   "cell_type": "code",
   "execution_count": null,
   "metadata": {
    "colab": {
     "base_uri": "https://localhost:8080/",
     "height": 373
    },
    "executionInfo": {
     "elapsed": 19,
     "status": "ok",
     "timestamp": 1656939880324,
     "user": {
      "displayName": "SAVERIO TELERA",
      "userId": "04328358436638076279"
     },
     "user_tz": -120
    },
    "id": "8T9fr7FvqpqR",
    "outputId": "2be6d0da-9e5e-41cb-c026-280710a56151"
   },
   "outputs": [
    {
     "data": {
      "image/png": "[encoded data removed]",
      "text/plain": [
       "<Figure size 432x432 with 1 Axes>"
      ]
     },
     "metadata": {},
     "output_type": "display_data"
    }
   ],
   "source": [
    "counts = data[\"rating\"].value_counts()\n",
    "counts.plot(kind=\"pie\", labels=counts.index.tolist(), autopct='%.2f',\n",
    "                fontsize=12, figsize=(6, 6), title=\"Rating distribution\", colormap=\"Set3\")\n",
    "plt.show()"
   ]
  },
  {
   "cell_type": "markdown",
   "metadata": {
    "id": "SKEdJxTzsQ-b"
   },
   "source": [
    "# distribution of gender"
   ]
  },
  {
   "cell_type": "code",
   "execution_count": null,
   "metadata": {
    "colab": {
     "base_uri": "https://localhost:8080/",
     "height": 373
    },
    "executionInfo": {
     "elapsed": 489,
     "status": "ok",
     "timestamp": 1656939880797,
     "user": {
      "displayName": "SAVERIO TELERA",
      "userId": "04328358436638076279"
     },
     "user_tz": -120
    },
    "id": "sAlAL6jpqptn",
    "outputId": "3bfbd0cb-9057-47a5-d782-eb3eba9bc062"
   },
   "outputs": [
    {
     "data": {
      "image/png": "[encoded data removed]",
      "text/plain": [
       "<Figure size 432x432 with 1 Axes>"
      ]
     },
     "metadata": {},
     "output_type": "display_data"
    }
   ],
   "source": [
    "counts = data[\"gender\"].value_counts()\n",
    "counts.plot(kind=\"pie\",\n",
    "            labels=counts.index.tolist(), autopct='%.2f',\n",
    "                fontsize=12, figsize=(6, 6), title=\"Gender distribution\", colormap=\"Set3\")\n",
    "plt.show()"
   ]
  },
  {
   "cell_type": "code",
   "execution_count": null,
   "metadata": {
    "colab": {
     "base_uri": "https://localhost:8080/",
     "height": 355
    },
    "executionInfo": {
     "elapsed": 28,
     "status": "ok",
     "timestamp": 1656939880806,
     "user": {
      "displayName": "SAVERIO TELERA",
      "userId": "04328358436638076279"
     },
     "user_tz": -120
    },
    "id": "Bs1Poq_hscDg",
    "outputId": "b7b10dfc-b869-4cf0-a9b2-a7bd6011c77b"
   },
   "outputs": [
    {
     "data": {
      "image/png": "[encoded data removed]",
      "text/plain": [
       "<Figure size 576x360 with 1 Axes>"
      ]
     },
     "metadata": {},
     "output_type": "display_data"
    }
   ],
   "source": [
    "#gender by rating\n",
    "pd.crosstab(index = data[\"rating\"],columns = data[\"gender\"]).plot(kind='bar',\n",
    "                figsize=(8, 5),rot=0,stacked=True,title=\"Distribution\", colormap=\"Set3\")\n",
    "plt.show()"
   ]
  },
  {
   "cell_type": "markdown",
   "metadata": {
    "id": "huW5zBPpJd6e"
   },
   "source": [
    "# creating links"
   ]
  },
  {
   "cell_type": "markdown",
   "metadata": {
    "id": "L9KLgaB-aNq-"
   },
   "source": [
    "So we decided to remove all the people that have read less than 4 books."
   ]
  },
  {
   "cell_type": "code",
   "execution_count": null,
   "metadata": {
    "colab": {
     "base_uri": "https://localhost:8080/"
    },
    "executionInfo": {
     "elapsed": 255,
     "status": "ok",
     "timestamp": 1656970682482,
     "user": {
      "displayName": "LUCA MARIANO",
      "userId": "13778859023738812030"
     },
     "user_tz": -120
    },
    "id": "cPLJ4U4U3HkD",
    "outputId": "44a99ec6-ded2-4e41-a335-f801e5ae5e1b"
   },
   "outputs": [
    {
     "data": {
      "text/plain": [
       "25009"
      ]
     },
     "execution_count": 12,
     "metadata": {},
     "output_type": "execute_result"
    }
   ],
   "source": [
    "dict_2=dizio.copy()\n",
    "for elem in dizio:\n",
    "  if len(dizio[elem])<4:\n",
    "    del dict_2[elem]\n",
    "len(dict_2)\n",
    "#number of users that have read at least 4 books"
   ]
  },
  {
   "cell_type": "code",
   "execution_count": null,
   "metadata": {
    "id": "u0QJDmmxJ7Yu"
   },
   "outputs": [],
   "source": [
    "#funzione per contare gli edges\n",
    "def morte(i):\n",
    "  edges=0\n",
    "  link=list(dict_2.keys())\n",
    "  users=list(dict_2.keys())\n",
    "  for user1 in link:\n",
    "    users.remove(user1)\n",
    "    for user2 in users:\n",
    "      if len(dict_2[user1]&dict_2[user2])>i:\n",
    "        edges+=1\n",
    "  return edges"
   ]
  },
  {
   "cell_type": "code",
   "execution_count": null,
   "metadata": {
    "colab": {
     "base_uri": "https://localhost:8080/"
    },
    "executionInfo": {
     "elapsed": 6888,
     "status": "ok",
     "timestamp": 1656973740414,
     "user": {
      "displayName": "LUCA MARIANO",
      "userId": "13778859023738812030"
     },
     "user_tz": -120
    },
    "id": "YyFK99RGVDRd",
    "outputId": "3353c6e5-7e63-4b59-b06b-d657eed8a28a"
   },
   "outputs": [
    {
     "name": "stdout",
     "output_type": "stream",
     "text": [
      "Looking in indexes: https://pypi.org/simple, https://us-python.pkg.dev/colab-wheels/public/simple/\n",
      "Collecting rich\n",
      "  Downloading rich-12.4.4-py3-none-any.whl (232 kB)\n",
      "\u001b[K     |████████████████████████████████| 232 kB 5.2 MB/s \n",
      "\u001b[?25hRequirement already satisfied: typing-extensions<5.0,>=4.0.0 in /usr/local/lib/python3.7/dist-packages (from rich) (4.1.1)\n",
      "Collecting commonmark<0.10.0,>=0.9.0\n",
      "  Downloading commonmark-0.9.1-py2.py3-none-any.whl (51 kB)\n",
      "\u001b[K     |████████████████████████████████| 51 kB 4.3 MB/s \n",
      "\u001b[?25hRequirement already satisfied: pygments<3.0.0,>=2.6.0 in /usr/local/lib/python3.7/dist-packages (from rich) (2.6.1)\n",
      "Installing collected packages: commonmark, rich\n",
      "Successfully installed commonmark-0.9.1 rich-12.4.4\n"
     ]
    }
   ],
   "source": [
    "!pip install rich"
   ]
  },
  {
   "cell_type": "code",
   "execution_count": null,
   "metadata": {
    "colab": {
     "base_uri": "https://localhost:8080/",
     "height": 34,
     "referenced_widgets": [
      "07c3786c51d94e85b43df8189ef4609c",
      "b38b0c792e7145fe8a5063726abc11ad"
     ]
    },
    "executionInfo": {
     "elapsed": 3365375,
     "status": "ok",
     "timestamp": 1656980228820,
     "user": {
      "displayName": "LUCA MARIANO",
      "userId": "13778859023738812030"
     },
     "user_tz": -120
    },
    "id": "_DcKhIeIKgu3",
    "outputId": "07018609-44c5-4264-ee3a-7c72dccbc675"
   },
   "outputs": [
    {
     "data": {
      "application/vnd.jupyter.widget-view+json": {
       "model_id": "07c3786c51d94e85b43df8189ef4609c",
       "version_major": 2,
       "version_minor": 0
      },
      "text/plain": [
       "Output()"
      ]
     },
     "metadata": {},
     "output_type": "display_data"
    },
    {
     "data": {
      "text/html": [
       "<pre style=\"white-space:pre;overflow-x:auto;line-height:normal;font-family:Menlo,'DejaVu Sans Mono',consolas,'Courier New',monospace\"></pre>\n"
      ],
      "text/plain": []
     },
     "metadata": {},
     "output_type": "display_data"
    },
    {
     "data": {
      "text/html": [
       "<pre style=\"white-space:pre;overflow-x:auto;line-height:normal;font-family:Menlo,'DejaVu Sans Mono',consolas,'Courier New',monospace\">\n",
       "</pre>\n"
      ],
      "text/plain": [
       "\n"
      ]
     },
     "metadata": {},
     "output_type": "display_data"
    }
   ],
   "source": [
    "#conto edges al variare di common books\n",
    "from rich.progress import track\n",
    "lista_della_morte=[]\n",
    "for i in track(range(8), 'ci sto provando...'):\n",
    "  lista_della_morte.append(morte(i))"
   ]
  },
  {
   "cell_type": "code",
   "execution_count": null,
   "metadata": {
    "colab": {
     "base_uri": "https://localhost:8080/",
     "height": 295
    },
    "executionInfo": {
     "elapsed": 1318,
     "status": "ok",
     "timestamp": 1656980477225,
     "user": {
      "displayName": "LUCA MARIANO",
      "userId": "13778859023738812030"
     },
     "user_tz": -120
    },
    "id": "NPaKkLJ1MelR",
    "outputId": "bedb7f5a-1e7e-4831-d012-7a8bd0e23715"
   },
   "outputs": [
    {
     "data": {
      "image/png": "[encoded data removed]",
      "text/plain": [
       "<Figure size 432x288 with 1 Axes>"
      ]
     },
     "metadata": {
      "needs_background": "light"
     },
     "output_type": "display_data"
    }
   ],
   "source": [
    "import numpy\n",
    "import matplotlib.pyplot as plt\n",
    "\n",
    "fig = plt.figure()\n",
    "ax = fig.add_subplot(111)\n",
    "ax.set_xlim(0,8)\n",
    "plt.plot(range(8),lista_della_morte)\n",
    "for i,j in zip(range(8),lista_della_morte):\n",
    "    ax.annotate(str(j),xy=(i,j))\n",
    "\n",
    "  \n",
    "plt.xlabel('Threshold n')\n",
    "plt.ylabel('Number of edges')\n",
    "  \n",
    "plt.title('Edges as a function of common books')\n",
    "plt.show()"
   ]
  },
  {
   "cell_type": "code",
   "execution_count": null,
   "metadata": {
    "id": "OUCF3W095wsE"
   },
   "outputs": [],
   "source": [
    "#creating new empty dictionary to associate users that have read same books\n",
    "link=dict()\n",
    "for user in dict_2:\n",
    "  link[user]=dict()"
   ]
  },
  {
   "cell_type": "code",
   "execution_count": null,
   "metadata": {
    "id": "EBGc4nL98Bhr"
   },
   "outputs": [],
   "source": [
    "users=list(link.keys())\n",
    "for user1 in link:\n",
    "  users.remove(user1)\n",
    "  for user2 in users:\n",
    "    if len(dict_2[user1]&dict_2[user2])>0:\n",
    "      link[user1][user2]=len(dict_2[user1]&dict_2[user2])\n",
    "#linking users that have read at least a common book"
   ]
  },
  {
   "cell_type": "code",
   "execution_count": null,
   "metadata": {
    "colab": {
     "base_uri": "https://localhost:8080/",
     "height": 206
    },
    "executionInfo": {
     "elapsed": 59,
     "status": "ok",
     "timestamp": 1656940270833,
     "user": {
      "displayName": "SAVERIO TELERA",
      "userId": "04328358436638076279"
     },
     "user_tz": -120
    },
    "id": "esWppLuQhrC8",
    "outputId": "e10fefa4-40a8-412c-931c-b32198b7e16d"
   },
   "outputs": [
    {
     "data": {
      "text/html": [
       "\n",
       "  <div id=\"df-d9445e6a-cace-4291-80e0-b4dd9afe6305\">\n",
       "    <div class=\"colab-df-container\">\n",
       "      <div>\n",
       "<style scoped>\n",
       "    .dataframe tbody tr th:only-of-type {\n",
       "        vertical-align: middle;\n",
       "    }\n",
       "\n",
       "    .dataframe tbody tr th {\n",
       "        vertical-align: top;\n",
       "    }\n",
       "\n",
       "    .dataframe thead th {\n",
       "        text-align: right;\n",
       "    }\n",
       "</style>\n",
       "<table border=\"1\" class=\"dataframe\">\n",
       "  <thead>\n",
       "    <tr style=\"text-align: right;\">\n",
       "      <th></th>\n",
       "      <th>User</th>\n",
       "      <th>Link</th>\n",
       "    </tr>\n",
       "  </thead>\n",
       "  <tbody>\n",
       "    <tr>\n",
       "      <th>0</th>\n",
       "      <td>/user/show/999171-anita</td>\n",
       "      <td>{'/user/show/71848701-miranda-reads': 2, '/use...</td>\n",
       "    </tr>\n",
       "    <tr>\n",
       "      <th>1</th>\n",
       "      <td>/user/show/71848701-miranda-reads</td>\n",
       "      <td>{'/user/show/14046996-roy-lotz': 13, '/user/sh...</td>\n",
       "    </tr>\n",
       "    <tr>\n",
       "      <th>2</th>\n",
       "      <td>/user/show/14046996-roy-lotz</td>\n",
       "      <td>{'/user/show/2050376-erin': 2, '/user/show/279...</td>\n",
       "    </tr>\n",
       "    <tr>\n",
       "      <th>3</th>\n",
       "      <td>/user/show/2050376-erin</td>\n",
       "      <td>{'/user/show/279256-diane': 1, '/user/show/200...</td>\n",
       "    </tr>\n",
       "    <tr>\n",
       "      <th>4</th>\n",
       "      <td>/user/show/279256-diane</td>\n",
       "      <td>{'/user/show/200881-william-ramsay': 1, '/user...</td>\n",
       "    </tr>\n",
       "  </tbody>\n",
       "</table>\n",
       "</div>\n",
       "      <button class=\"colab-df-convert\" onclick=\"convertToInteractive('df-d9445e6a-cace-4291-80e0-b4dd9afe6305')\"\n",
       "              title=\"Convert this dataframe to an interactive table.\"\n",
       "              style=\"display:none;\">\n",
       "        \n",
       "  <svg xmlns=\"http://www.w3.org/2000/svg\" height=\"24px\"viewBox=\"0 0 24 24\"\n",
       "       width=\"24px\">\n",
       "    <path d=\"M0 0h24v24H0V0z\" fill=\"none\"/>\n",
       "    <path d=\"M18.56 5.44l.94 2.06.94-2.06 2.06-.94-2.06-.94-.94-2.06-.94 2.06-2.06.94zm-11 1L8.5 8.5l.94-2.06 2.06-.94-2.06-.94L8.5 2.5l-.94 2.06-2.06.94zm10 10l.94 2.06.94-2.06 2.06-.94-2.06-.94-.94-2.06-.94 2.06-2.06.94z\"/><path d=\"M17.41 7.96l-1.37-1.37c-.4-.4-.92-.59-1.43-.59-.52 0-1.04.2-1.43.59L10.3 9.45l-7.72 7.72c-.78.78-.78 2.05 0 2.83L4 21.41c.39.39.9.59 1.41.59.51 0 1.02-.2 1.41-.59l7.78-7.78 2.81-2.81c.8-.78.8-2.07 0-2.86zM5.41 20L4 18.59l7.72-7.72 1.47 1.35L5.41 20z\"/>\n",
       "  </svg>\n",
       "      </button>\n",
       "      \n",
       "  <style>\n",
       "    .colab-df-container {\n",
       "      display:flex;\n",
       "      flex-wrap:wrap;\n",
       "      gap: 12px;\n",
       "    }\n",
       "\n",
       "    .colab-df-convert {\n",
       "      background-color: #E8F0FE;\n",
       "      border: none;\n",
       "      border-radius: 50%;\n",
       "      cursor: pointer;\n",
       "      display: none;\n",
       "      fill: #1967D2;\n",
       "      height: 32px;\n",
       "      padding: 0 0 0 0;\n",
       "      width: 32px;\n",
       "    }\n",
       "\n",
       "    .colab-df-convert:hover {\n",
       "      background-color: #E2EBFA;\n",
       "      box-shadow: 0px 1px 2px rgba(60, 64, 67, 0.3), 0px 1px 3px 1px rgba(60, 64, 67, 0.15);\n",
       "      fill: #174EA6;\n",
       "    }\n",
       "\n",
       "    [theme=dark] .colab-df-convert {\n",
       "      background-color: #3B4455;\n",
       "      fill: #D2E3FC;\n",
       "    }\n",
       "\n",
       "    [theme=dark] .colab-df-convert:hover {\n",
       "      background-color: #434B5C;\n",
       "      box-shadow: 0px 1px 3px 1px rgba(0, 0, 0, 0.15);\n",
       "      filter: drop-shadow(0px 1px 2px rgba(0, 0, 0, 0.3));\n",
       "      fill: #FFFFFF;\n",
       "    }\n",
       "  </style>\n",
       "\n",
       "      <script>\n",
       "        const buttonEl =\n",
       "          document.querySelector('#df-d9445e6a-cace-4291-80e0-b4dd9afe6305 button.colab-df-convert');\n",
       "        buttonEl.style.display =\n",
       "          google.colab.kernel.accessAllowed ? 'block' : 'none';\n",
       "\n",
       "        async function convertToInteractive(key) {\n",
       "          const element = document.querySelector('#df-d9445e6a-cace-4291-80e0-b4dd9afe6305');\n",
       "          const dataTable =\n",
       "            await google.colab.kernel.invokeFunction('convertToInteractive',\n",
       "                                                     [key], {});\n",
       "          if (!dataTable) return;\n",
       "\n",
       "          const docLinkHtml = 'Like what you see? Visit the ' +\n",
       "            '<a target=\"_blank\" href=https://colab.research.google.com/notebooks/data_table.ipynb>data table notebook</a>'\n",
       "            + ' to learn more about interactive tables.';\n",
       "          element.innerHTML = '';\n",
       "          dataTable['output_type'] = 'display_data';\n",
       "          await google.colab.output.renderOutput(dataTable, element);\n",
       "          const docLink = document.createElement('div');\n",
       "          docLink.innerHTML = docLinkHtml;\n",
       "          element.appendChild(docLink);\n",
       "        }\n",
       "      </script>\n",
       "    </div>\n",
       "  </div>\n",
       "  "
      ],
      "text/plain": [
       "                                User  \\\n",
       "0            /user/show/999171-anita   \n",
       "1  /user/show/71848701-miranda-reads   \n",
       "2       /user/show/14046996-roy-lotz   \n",
       "3            /user/show/2050376-erin   \n",
       "4            /user/show/279256-diane   \n",
       "\n",
       "                                                Link  \n",
       "0  {'/user/show/71848701-miranda-reads': 2, '/use...  \n",
       "1  {'/user/show/14046996-roy-lotz': 13, '/user/sh...  \n",
       "2  {'/user/show/2050376-erin': 2, '/user/show/279...  \n",
       "3  {'/user/show/279256-diane': 1, '/user/show/200...  \n",
       "4  {'/user/show/200881-william-ramsay': 1, '/user...  "
      ]
     },
     "execution_count": 25,
     "metadata": {},
     "output_type": "execute_result"
    }
   ],
   "source": [
    "df_link = pd.DataFrame(list(link.items()), columns=['User', \"Link\"])\n",
    "df_link.head()"
   ]
  },
  {
   "cell_type": "code",
   "execution_count": null,
   "metadata": {
    "colab": {
     "base_uri": "https://localhost:8080/"
    },
    "executionInfo": {
     "elapsed": 640,
     "status": "ok",
     "timestamp": 1656940271463,
     "user": {
      "displayName": "SAVERIO TELERA",
      "userId": "04328358436638076279"
     },
     "user_tz": -120
    },
    "id": "yeZxGaLIhrC_",
    "outputId": "5ebc75bd-0b32-46b4-fba1-a165c0aeed46"
   },
   "outputs": [
    {
     "data": {
      "text/plain": [
       "16312183"
      ]
     },
     "execution_count": 26,
     "metadata": {},
     "output_type": "execute_result"
    }
   ],
   "source": [
    "list_values = []\n",
    "df_link[\"Link\"].apply(lambda x: list_values.extend(list(x.values())))\n",
    "len(list_values)"
   ]
  },
  {
   "cell_type": "code",
   "execution_count": null,
   "metadata": {
    "colab": {
     "base_uri": "https://localhost:8080/"
    },
    "executionInfo": {
     "elapsed": 4131,
     "status": "ok",
     "timestamp": 1656940275578,
     "user": {
      "displayName": "SAVERIO TELERA",
      "userId": "04328358436638076279"
     },
     "user_tz": -120
    },
    "id": "tWifo6LBhrDC",
    "outputId": "80db5580-6780-4359-f1f5-4618c6f528d9"
   },
   "outputs": [
    {
     "data": {
      "text/plain": [
       "1      12641271\n",
       "2       2086884\n",
       "3        682423\n",
       "4        315111\n",
       "5        171944\n",
       "         ...   \n",
       "141           1\n",
       "122           1\n",
       "145           1\n",
       "146           1\n",
       "131           1\n",
       "Length: 147, dtype: int64"
      ]
     },
     "execution_count": 27,
     "metadata": {},
     "output_type": "execute_result"
    }
   ],
   "source": [
    "list_of_books = pd.Series(list_values)\n",
    "list_of_books.value_counts()"
   ]
  },
  {
   "cell_type": "code",
   "execution_count": null,
   "metadata": {
    "colab": {
     "base_uri": "https://localhost:8080/",
     "height": 394
    },
    "executionInfo": {
     "elapsed": 479275,
     "status": "ok",
     "timestamp": 1656940754846,
     "user": {
      "displayName": "SAVERIO TELERA",
      "userId": "04328358436638076279"
     },
     "user_tz": -120
    },
    "id": "xasPEosfhrDH",
    "outputId": "db35e178-8f27-47e7-f5e3-a111bfb6d0b0"
   },
   "outputs": [
    {
     "data": {
      "text/plain": [
       "(0.0, 10.0)"
      ]
     },
     "execution_count": 28,
     "metadata": {},
     "output_type": "execute_result"
    },
    {
     "data": {
      "image/png": "[encoded data removed]",
      "text/plain": [
       "<Figure size 792x432 with 1 Axes>"
      ]
     },
     "metadata": {},
     "output_type": "display_data"
    }
   ],
   "source": [
    "fig, ax = plt.subplots(figsize=(11,6))\n",
    "list_of_books.plot(kind='density')\n",
    "ax.set_xlim(0,10)"
   ]
  },
  {
   "cell_type": "markdown",
   "metadata": {
    "id": "tORAFB7CuiyA"
   },
   "source": [
    "So we decide to keep only users that have at least two books in common"
   ]
  },
  {
   "cell_type": "code",
   "execution_count": null,
   "metadata": {
    "id": "1NqkE2Snupok"
   },
   "outputs": [],
   "source": [
    "link=dict()\n",
    "for user in dict_2:\n",
    "  link[user]=dict()"
   ]
  },
  {
   "cell_type": "code",
   "execution_count": null,
   "metadata": {
    "id": "S8T-H_k_utGM"
   },
   "outputs": [],
   "source": [
    "users=list(link.keys())\n",
    "for user1 in link:\n",
    "  users.remove(user1)\n",
    "  for user2 in users:\n",
    "    if len(dict_2[user1]&dict_2[user2])>1:\n",
    "      link[user1][user2]=len(dict_2[user1]&dict_2[user2])\n",
    "#linking users that have read at least 2 common books"
   ]
  },
  {
   "cell_type": "markdown",
   "metadata": {
    "id": "_e2I3_1Auymk"
   },
   "source": [
    "Here we dropped users that have empty dictionary (no links)"
   ]
  },
  {
   "cell_type": "code",
   "execution_count": null,
   "metadata": {
    "colab": {
     "base_uri": "https://localhost:8080/"
    },
    "executionInfo": {
     "elapsed": 46,
     "status": "ok",
     "timestamp": 1656941144216,
     "user": {
      "displayName": "SAVERIO TELERA",
      "userId": "04328358436638076279"
     },
     "user_tz": -120
    },
    "id": "wua52tGShrC1",
    "outputId": "c6946e8f-153b-4ebf-87c3-4f342aa952b2"
   },
   "outputs": [
    {
     "name": "stdout",
     "output_type": "stream",
     "text": [
      "4991\n"
     ]
    }
   ],
   "source": [
    "num=0\n",
    "lista=[]\n",
    "for user in link:\n",
    "    if len(link[user])==0:\n",
    "        num+=1\n",
    "        lista.append(user)\n",
    "print(num)"
   ]
  },
  {
   "cell_type": "code",
   "execution_count": null,
   "metadata": {
    "colab": {
     "base_uri": "https://localhost:8080/"
    },
    "executionInfo": {
     "elapsed": 20,
     "status": "ok",
     "timestamp": 1656941144216,
     "user": {
      "displayName": "SAVERIO TELERA",
      "userId": "04328358436638076279"
     },
     "user_tz": -120
    },
    "id": "UIjBvaC6kh0Q",
    "outputId": "0d37e70c-afc5-40d6-f95b-30dd0718b694"
   },
   "outputs": [
    {
     "data": {
      "text/plain": [
       "20018"
      ]
     },
     "execution_count": 32,
     "metadata": {},
     "output_type": "execute_result"
    }
   ],
   "source": [
    "for user in lista:\n",
    "    if len(link[user])==0:\n",
    "      del link[user]\n",
    "len(link)\n",
    "#this is the final number of nodes"
   ]
  },
  {
   "cell_type": "code",
   "execution_count": null,
   "metadata": {
    "id": "twTQiUYia6i6"
   },
   "outputs": [],
   "source": [
    "users=set(lista)\n",
    "for user1 in link:\n",
    "  new_dict = dict()\n",
    "  for user2 in link[user1]:\n",
    "    if user2 not in users:\n",
    "      new_dict[user2] = link[user1][user2]\n",
    "  link[user1] = new_dict"
   ]
  },
  {
   "cell_type": "code",
   "execution_count": null,
   "metadata": {
    "colab": {
     "base_uri": "https://localhost:8080/"
    },
    "executionInfo": {
     "elapsed": 234,
     "status": "ok",
     "timestamp": 1656942607658,
     "user": {
      "displayName": "SAVERIO TELERA",
      "userId": "04328358436638076279"
     },
     "user_tz": -120
    },
    "id": "4LjM7jTBeBHT",
    "outputId": "67804d66-c0c3-4ef1-9d13-d6030c36190d"
   },
   "outputs": [
    {
     "data": {
      "text/plain": [
       "[('/user/show/999171-anita',\n",
       "  {'/user/show/101007-molly': 2,\n",
       "   '/user/show/102271-cynthia-paschen': 2,\n",
       "   '/user/show/1026591-christian-mckay': 4,\n",
       "   '/user/show/10312986-lyn-elliott': 2,\n",
       "   '/user/show/1041137-kristen': 2,\n",
       "   '/user/show/104823-kate': 2,\n",
       "   '/user/show/1060805-marie': 2,\n",
       "   '/user/show/106692-cheri': 3,\n",
       "   '/user/show/10684626-lynn': 2,\n",
       "   '/user/show/10770371-dan': 2,\n",
       "   '/user/show/1085121-stephanie-eff-your-feelings': 2,\n",
       "   '/user/show/10978428-jim': 2,\n",
       "   '/user/show/1108123-bettie': 3,\n",
       "   '/user/show/1125315-colleen': 2,\n",
       "   '/user/show/1127480-lisa-butterworth': 2,\n",
       "   '/user/show/1132408-meg---a-bookish-affair': 2,\n",
       "   '/user/show/1142366-hans': 2,\n",
       "   '/user/show/1159787-valerie': 4,\n",
       "   '/user/show/1166663-carol': 3,\n",
       "   '/user/show/1176575-walt': 2,\n",
       "   '/user/show/1177534-michael': 2,\n",
       "   '/user/show/11820811-camelia-rose': 2,\n",
       "   '/user/show/1182891-sue': 2,\n",
       "   '/user/show/11874992-rex-fuller': 2,\n",
       "   '/user/show/11889829-suzanne': 2,\n",
       "   '/user/show/11951948-paul': 3,\n",
       "   '/user/show/12090607-cathie': 2,\n",
       "   '/user/show/1223283-tanya': 2,\n",
       "   '/user/show/12234709-kate': 2,\n",
       "   '/user/show/122606-chelsea': 2,\n",
       "   '/user/show/1232712-matt': 2,\n",
       "   '/user/show/1237196-petra-him-i-don-t-like-you-as-much-as-you-like-me': 4,\n",
       "   '/user/show/1237196-petra-hoped-for-a-thank-you-for-the-good-times-msg': 2,\n",
       "   '/user/show/12618229-jeff': 3,\n",
       "   '/user/show/12620745-debbie-dj': 3,\n",
       "   '/user/show/126564-renee': 2,\n",
       "   '/user/show/1281368-don': 2,\n",
       "   '/user/show/1291915-lauren': 5,\n",
       "   '/user/show/1299075-meera': 2,\n",
       "   '/user/show/13070326-heather-k-dentist-in-my-spare-time': 2,\n",
       "   '/user/show/1310564-beth': 2,\n",
       "   '/user/show/1329059-melissa-mcshane': 2,\n",
       "   '/user/show/1333177-ciara': 5,\n",
       "   '/user/show/1343864-ashley': 3,\n",
       "   '/user/show/13716524-evelina-avalinahsbooks': 2,\n",
       "   '/user/show/1394632-debby': 2,\n",
       "   '/user/show/1396160-kandice': 2,\n",
       "   '/user/show/1400289-chana': 5,\n",
       "   '/user/show/14046991-ben-rogers': 2,\n",
       "   '/user/show/1413439-stephen': 2,\n",
       "   '/user/show/1453295-john': 2,\n",
       "   '/user/show/1505281-julie-suzanne': 3,\n",
       "   '/user/show/1512868-lisa': 2,\n",
       "   '/user/show/1521829-chris': 2,\n",
       "   '/user/show/1526851-will-byrnes': 4,\n",
       "   '/user/show/15455-abby': 2,\n",
       "   '/user/show/15493045-lisa': 3,\n",
       "   '/user/show/155663-david-rubenstein': 4,\n",
       "   '/user/show/1574263-nicholas-karpuk': 2,\n",
       "   '/user/show/1590757-janet': 2,\n",
       "   '/user/show/1603118-ryan-lawson': 2,\n",
       "   '/user/show/1605591-christine': 3,\n",
       "   '/user/show/16254355-matthew': 7,\n",
       "   '/user/show/16381974-gilbert-stack': 2,\n",
       "   '/user/show/1654645-deb-readerbuzz-nance': 3,\n",
       "   '/user/show/1662632-richard': 2,\n",
       "   '/user/show/16731747-calista': 3,\n",
       "   '/user/show/1710557-amy': 3,\n",
       "   '/user/show/1742824-jason-koivu': 2,\n",
       "   '/user/show/175635-trevor': 3,\n",
       "   '/user/show/1758594-patrick-gibson': 2,\n",
       "   '/user/show/17834354-marina': 2,\n",
       "   '/user/show/1809697-darlene': 3,\n",
       "   '/user/show/18191442-kate-hilton': 2,\n",
       "   '/user/show/185835-yulia': 2,\n",
       "   '/user/show/18653872-steve-wiggins': 2,\n",
       "   '/user/show/18695911-daniel-chaikin': 2,\n",
       "   '/user/show/1879479-susan-sherwin': 2,\n",
       "   '/user/show/1880531-carol-bookaria': 2,\n",
       "   '/user/show/1921208-zara': 2,\n",
       "   '/user/show/1923002-mara': 2,\n",
       "   '/user/show/1947301-ericka-clou': 5,\n",
       "   '/user/show/1981227-john-senner': 2,\n",
       "   '/user/show/1993309-kristel': 2,\n",
       "   '/user/show/19993-robin': 2,\n",
       "   '/user/show/2007216-peter-derk': 3,\n",
       "   '/user/show/2018505-thomas': 2,\n",
       "   '/user/show/2026178-elizabeth-alaska': 2,\n",
       "   '/user/show/2028832-kathleen': 2,\n",
       "   '/user/show/20481392-james-biser': 3,\n",
       "   '/user/show/2048986-carrie-kellenberger': 2,\n",
       "   '/user/show/20495277-anny': 2,\n",
       "   '/user/show/20608600-laura': 2,\n",
       "   '/user/show/2068331-bee': 2,\n",
       "   '/user/show/2079470-cheryl': 2,\n",
       "   '/user/show/208489-margie': 2,\n",
       "   '/user/show/2143983-louise': 2,\n",
       "   '/user/show/2148308-shawn-thrasher': 2,\n",
       "   '/user/show/216258-sean': 2,\n",
       "   '/user/show/217090-amy': 2,\n",
       "   '/user/show/2172096-barbara': 2,\n",
       "   '/user/show/2199404-andy': 2,\n",
       "   '/user/show/220791-lena': 4,\n",
       "   '/user/show/22110057-debbie-zapata': 2,\n",
       "   '/user/show/2220787-ram': 3,\n",
       "   '/user/show/223837-nicky': 2,\n",
       "   '/user/show/22409011-brendan-monroe': 3,\n",
       "   '/user/show/23038885-jody': 2,\n",
       "   '/user/show/23046477-karen': 2,\n",
       "   '/user/show/23082940-justin-tate': 2,\n",
       "   '/user/show/2315202-cameron': 2,\n",
       "   '/user/show/23302801-danielle': 3,\n",
       "   '/user/show/23533869-barbara-nutting': 2,\n",
       "   '/user/show/2355889-chance-lee': 2,\n",
       "   '/user/show/23683935-benjamin-rubenstein': 2,\n",
       "   '/user/show/2393718-nick': 2,\n",
       "   '/user/show/2450538-louise': 3,\n",
       "   '/user/show/2455252-linda-hart': 4,\n",
       "   '/user/show/2489613-susan-aka-just-my-op': 3,\n",
       "   '/user/show/2493714-cindy': 2,\n",
       "   '/user/show/249420-jeff': 2,\n",
       "   '/user/show/24987614-davis-smith': 2,\n",
       "   '/user/show/2499261-rachel': 2,\n",
       "   '/user/show/2519765-nicole': 2,\n",
       "   '/user/show/2531665-charlene': 2,\n",
       "   '/user/show/25353295-carmen': 4,\n",
       "   '/user/show/255858-gina': 2,\n",
       "   '/user/show/259085-bethany': 2,\n",
       "   '/user/show/2600090-kathryn': 2,\n",
       "   '/user/show/2610234-caren': 2,\n",
       "   '/user/show/26188-jafar': 2,\n",
       "   '/user/show/2644090-erica': 3,\n",
       "   '/user/show/2698100-blake-charlton': 2,\n",
       "   '/user/show/27047099-allison': 2,\n",
       "   '/user/show/27123577-ellen-gail': 2,\n",
       "   '/user/show/27443399-tiffany-psquared': 2,\n",
       "   '/user/show/27709782-jen': 2,\n",
       "   '/user/show/279256-diane': 4,\n",
       "   '/user/show/2825213-kathryn': 2,\n",
       "   '/user/show/28266634-liza-fireman': 2,\n",
       "   '/user/show/284485-kara': 2,\n",
       "   '/user/show/2845929-helen-dunn': 2,\n",
       "   '/user/show/2896054-marie-horning': 2,\n",
       "   '/user/show/2907291-glenda': 2,\n",
       "   '/user/show/290848-john': 3,\n",
       "   '/user/show/2908629-ellie': 5,\n",
       "   '/user/show/2922102-blaine': 2,\n",
       "   '/user/show/29268-erin': 2,\n",
       "   '/user/show/2976142-thomas-edmund': 2,\n",
       "   '/user/show/3010986-amanda-patterson': 3,\n",
       "   '/user/show/301501-erin': 2,\n",
       "   '/user/show/3054983-maria-carmo': 2,\n",
       "   '/user/show/3066091-joanne': 2,\n",
       "   '/user/show/307208-lucy': 3,\n",
       "   '/user/show/3123067-elizabeth-a': 3,\n",
       "   '/user/show/3144945-alex': 2,\n",
       "   '/user/show/316102-krista-the-krazy-kataloguer': 2,\n",
       "   '/user/show/316327-dawn-michelle': 5,\n",
       "   '/user/show/31913163-cathal-kenneally': 2,\n",
       "   '/user/show/3214163-brandon': 2,\n",
       "   '/user/show/3268839-theresa-alan': 2,\n",
       "   '/user/show/3292905-julie': 3,\n",
       "   '/user/show/329996-david-ward': 2,\n",
       "   '/user/show/3332895-lori': 2,\n",
       "   '/user/show/3335664-david': 2,\n",
       "   '/user/show/3357765-jimmy': 2,\n",
       "   '/user/show/33641676-rebecca': 2,\n",
       "   '/user/show/34183387-regina': 2,\n",
       "   '/user/show/3461034-trish': 2,\n",
       "   '/user/show/3498889-cheryl-is-busier-irl-atm': 2,\n",
       "   '/user/show/3533262-stacey-prettybooks': 2,\n",
       "   '/user/show/3658765-rahul-adusumilli': 2,\n",
       "   '/user/show/36603555-katherine-addison': 2,\n",
       "   '/user/show/3670585-erin-cataldi': 2,\n",
       "   '/user/show/3686333-catherine': 2,\n",
       "   '/user/show/369975-lisa': 2,\n",
       "   '/user/show/37030839-mack': 2,\n",
       "   '/user/show/3709317-callie': 2,\n",
       "   '/user/show/3727168-teresa-lukey': 2,\n",
       "   '/user/show/3739451-suzanne': 2,\n",
       "   '/user/show/37756416-tracey': 2,\n",
       "   '/user/show/38036772-annie': 3,\n",
       "   '/user/show/3817259-frances': 2,\n",
       "   '/user/show/38240230-dawn': 2,\n",
       "   '/user/show/3855249-selena': 2,\n",
       "   '/user/show/3981773-janet': 2,\n",
       "   '/user/show/399175-stacey': 2,\n",
       "   '/user/show/40816-christa': 2,\n",
       "   '/user/show/4086118-michael': 2,\n",
       "   '/user/show/4091267-rebecca-huston': 3,\n",
       "   '/user/show/4146551-kelli': 2,\n",
       "   '/user/show/4149976-emily': 2,\n",
       "   '/user/show/4159922-diane-s': 5,\n",
       "   '/user/show/41724-tamara': 2,\n",
       "   '/user/show/418309-jane': 2,\n",
       "   '/user/show/419307-rachel': 2,\n",
       "   '/user/show/4213258-bradley': 2,\n",
       "   '/user/show/4265436-nicole': 2,\n",
       "   '/user/show/4272284-kristina': 3,\n",
       "   '/user/show/4286332-julian-lees': 2,\n",
       "   '/user/show/4296574-joshua-gross': 2,\n",
       "   '/user/show/430758-meaghan': 2,\n",
       "   '/user/show/439937-jim': 2,\n",
       "   '/user/show/4427869-carol-brill': 2,\n",
       "   '/user/show/4523408-jenna': 2,\n",
       "   '/user/show/45248887-greta-g': 2,\n",
       "   '/user/show/4604883-cheryl-gatling': 2,\n",
       "   '/user/show/4729639-krista': 2,\n",
       "   '/user/show/4733365-maureen': 2,\n",
       "   '/user/show/4739465-monica': 3,\n",
       "   '/user/show/4776032-cher': 3,\n",
       "   '/user/show/4845136-ramona': 2,\n",
       "   '/user/show/4859943-lynn': 2,\n",
       "   '/user/show/4882193-paul': 3,\n",
       "   '/user/show/4886576-cody': 2,\n",
       "   '/user/show/4901122-cara': 2,\n",
       "   '/user/show/4979877-suzie-quint': 3,\n",
       "   '/user/show/4994087-madeline': 4,\n",
       "   '/user/show/5004286-ruth': 2,\n",
       "   '/user/show/50066399-diane-in-australia': 2,\n",
       "   '/user/show/5010988-laura': 3,\n",
       "   '/user/show/50297885-joy-d': 3,\n",
       "   '/user/show/5032725-debra': 3,\n",
       "   '/user/show/5096613-joanne-pulcino': 2,\n",
       "   '/user/show/51379803-lacy-white': 2,\n",
       "   '/user/show/51467437-donna-craig': 4,\n",
       "   '/user/show/51508584-connie-d': 2,\n",
       "   '/user/show/5164327-jill-mackin': 2,\n",
       "   '/user/show/5172713-susan': 3,\n",
       "   '/user/show/520753-kim': 2,\n",
       "   '/user/show/5211606-julie-g': 2,\n",
       "   '/user/show/5338290-rosemary-achey': 2,\n",
       "   '/user/show/5364077-connie-g': 3,\n",
       "   '/user/show/54697-matt': 2,\n",
       "   '/user/show/549698-nathan': 2,\n",
       "   '/user/show/5581571-melissa': 2,\n",
       "   '/user/show/5649720-rebecca': 2,\n",
       "   '/user/show/5745485-christopher': 2,\n",
       "   '/user/show/5778052-judy': 2,\n",
       "   '/user/show/58158333-allen': 3,\n",
       "   '/user/show/5817790-steve': 2,\n",
       "   '/user/show/5841469-andy': 2,\n",
       "   '/user/show/5858203-michelle': 2,\n",
       "   '/user/show/5872506-larry-h': 2,\n",
       "   '/user/show/5875398-rebecca': 3,\n",
       "   '/user/show/5885029-bonnie': 2,\n",
       "   '/user/show/5903843-matt': 4,\n",
       "   '/user/show/5911504-dana-al-basha': 2,\n",
       "   '/user/show/5935491-tanja-berg': 2,\n",
       "   '/user/show/597461-elyse-walters': 4,\n",
       "   '/user/show/603130-erin': 2,\n",
       "   '/user/show/607890-carly': 2,\n",
       "   '/user/show/6169980-nathalie': 2,\n",
       "   '/user/show/6181069-ingrid': 2,\n",
       "   '/user/show/6257531-caroline': 2,\n",
       "   '/user/show/62796824-erin-bomboy': 2,\n",
       "   '/user/show/6316460-becky': 4,\n",
       "   '/user/show/6330303-barnabas-piper': 2,\n",
       "   '/user/show/6354112-perry': 2,\n",
       "   '/user/show/641112-cathryn-conroy': 2,\n",
       "   '/user/show/642041-sarah': 2,\n",
       "   '/user/show/6423134-bernie-gourley': 2,\n",
       "   '/user/show/6449756-sonja-arlow': 5,\n",
       "   '/user/show/6460330-cherie': 2,\n",
       "   '/user/show/6482072-heather-fineisen': 2,\n",
       "   '/user/show/666003-silvana': 2,\n",
       "   '/user/show/66612603-allison-sesame': 3,\n",
       "   '/user/show/6700518-lorna': 2,\n",
       "   '/user/show/67195064-matt-hooper': 2,\n",
       "   '/user/show/6752803-erica': 3,\n",
       "   '/user/show/68030-jenny-reading-envy': 4,\n",
       "   '/user/show/6877807-mary': 2,\n",
       "   '/user/show/6879837-grace': 2,\n",
       "   '/user/show/688928-beth-knight': 2,\n",
       "   '/user/show/6915394-kristy-miller': 3,\n",
       "   '/user/show/6932203-karen-foster': 2,\n",
       "   '/user/show/6942006-suzy': 2,\n",
       "   '/user/show/695116-jim': 3,\n",
       "   '/user/show/6970638-sheri': 3,\n",
       "   '/user/show/70951605-tucker-tuckerthereader': 2,\n",
       "   '/user/show/7149482-karly': 2,\n",
       "   '/user/show/715626-joe': 2,\n",
       "   '/user/show/71601-philip': 3,\n",
       "   '/user/show/7182067-julie': 2,\n",
       "   '/user/show/71848701-miranda-reads': 2,\n",
       "   '/user/show/7240015-stephen': 2,\n",
       "   '/user/show/727334-amy': 2,\n",
       "   '/user/show/7280101-amit': 2,\n",
       "   '/user/show/7364359-sunil': 2,\n",
       "   '/user/show/7367292-jessie': 2,\n",
       "   '/user/show/743361-carmen-liffengren': 2,\n",
       "   '/user/show/7481492-margitte': 2,\n",
       "   '/user/show/7487619-rachel-theshadesoforange': 2,\n",
       "   '/user/show/7509988-elyse': 2,\n",
       "   '/user/show/75157-carol': 2,\n",
       "   '/user/show/7668522-carol': 2,\n",
       "   '/user/show/7701175-alison': 2,\n",
       "   '/user/show/773729-kelly': 2,\n",
       "   '/user/show/7784852-chloe-always-booked': 2,\n",
       "   '/user/show/78086-jessica---how-jessica-reads': 2,\n",
       "   '/user/show/792145-sue-bridehead-a-pseudonym': 2,\n",
       "   '/user/show/795695-jennifer-ozawa': 2,\n",
       "   '/user/show/796425-jeanette-ms-feisty': 6,\n",
       "   '/user/show/7986781-heidi-the-reader': 2,\n",
       "   '/user/show/798978-barbara': 2,\n",
       "   '/user/show/80316998-howard': 3,\n",
       "   '/user/show/803323-nancy': 3,\n",
       "   '/user/show/833700-kirsten': 2,\n",
       "   '/user/show/8338351-judith': 2,\n",
       "   '/user/show/83445-lisa-vegan': 2,\n",
       "   '/user/show/835127-lisa-brown': 2,\n",
       "   '/user/show/837937-linda': 2,\n",
       "   '/user/show/854592-judy': 5,\n",
       "   '/user/show/874781-kat': 2,\n",
       "   '/user/show/887977-amanda': 2,\n",
       "   '/user/show/88985331-sarah-rigg': 2,\n",
       "   '/user/show/893630-trina': 2,\n",
       "   '/user/show/8950052-michelle': 2,\n",
       "   '/user/show/913856-jennifer': 2,\n",
       "   '/user/show/914674-isis': 3,\n",
       "   '/user/show/9246169-wanda-pedersen': 3,\n",
       "   '/user/show/9274025-mary-havens': 2,\n",
       "   '/user/show/933226-kirsti': 3,\n",
       "   '/user/show/936723-erik': 3,\n",
       "   '/user/show/93751-gail': 5,\n",
       "   '/user/show/957144-becky': 2,\n",
       "   '/user/show/974210-erik-graff': 5,\n",
       "   '/user/show/9779623-shaun': 2,\n",
       "   '/user/show/9792266-kim': 2,\n",
       "   '/user/show/987336-sarah': 2,\n",
       "   '/user/show/994755-kathryn-bashaar': 2})]"
      ]
     },
     "execution_count": 58,
     "metadata": {},
     "output_type": "execute_result"
    }
   ],
   "source": [
    "from itertools import islice\n",
    "\n",
    "def take(n, iterable):\n",
    "    \"Return first n items of the iterable as a list\"\n",
    "    return list(islice(iterable, n))\n",
    "\n",
    "n_items = take(1, link.items())\n",
    "n_items"
   ]
  },
  {
   "cell_type": "markdown",
   "metadata": {
    "id": "A-PooSBQlQ05"
   },
   "source": [
    "# Creating Gephi CSV"
   ]
  },
  {
   "cell_type": "code",
   "execution_count": null,
   "metadata": {
    "colab": {
     "base_uri": "https://localhost:8080/",
     "height": 206
    },
    "executionInfo": {
     "elapsed": 265,
     "status": "ok",
     "timestamp": 1656942705254,
     "user": {
      "displayName": "SAVERIO TELERA",
      "userId": "04328358436638076279"
     },
     "user_tz": -120
    },
    "id": "IkUGrJQghrDK",
    "outputId": "3245ca3a-d96e-4d49-846d-669cea8a90b2"
   },
   "outputs": [
    {
     "data": {
      "text/html": [
       "\n",
       "  <div id=\"df-421238fe-9818-42cc-a2b7-621a29355575\">\n",
       "    <div class=\"colab-df-container\">\n",
       "      <div>\n",
       "<style scoped>\n",
       "    .dataframe tbody tr th:only-of-type {\n",
       "        vertical-align: middle;\n",
       "    }\n",
       "\n",
       "    .dataframe tbody tr th {\n",
       "        vertical-align: top;\n",
       "    }\n",
       "\n",
       "    .dataframe thead th {\n",
       "        text-align: right;\n",
       "    }\n",
       "</style>\n",
       "<table border=\"1\" class=\"dataframe\">\n",
       "  <thead>\n",
       "    <tr style=\"text-align: right;\">\n",
       "      <th></th>\n",
       "      <th>Id</th>\n",
       "      <th>Label</th>\n",
       "    </tr>\n",
       "  </thead>\n",
       "  <tbody>\n",
       "    <tr>\n",
       "      <th>0</th>\n",
       "      <td>0</td>\n",
       "      <td>/user/show/999171-anita</td>\n",
       "    </tr>\n",
       "    <tr>\n",
       "      <th>1</th>\n",
       "      <td>1</td>\n",
       "      <td>/user/show/71848701-miranda-reads</td>\n",
       "    </tr>\n",
       "    <tr>\n",
       "      <th>2</th>\n",
       "      <td>2</td>\n",
       "      <td>/user/show/14046996-roy-lotz</td>\n",
       "    </tr>\n",
       "    <tr>\n",
       "      <th>3</th>\n",
       "      <td>3</td>\n",
       "      <td>/user/show/2050376-erin</td>\n",
       "    </tr>\n",
       "    <tr>\n",
       "      <th>4</th>\n",
       "      <td>4</td>\n",
       "      <td>/user/show/279256-diane</td>\n",
       "    </tr>\n",
       "  </tbody>\n",
       "</table>\n",
       "</div>\n",
       "      <button class=\"colab-df-convert\" onclick=\"convertToInteractive('df-421238fe-9818-42cc-a2b7-621a29355575')\"\n",
       "              title=\"Convert this dataframe to an interactive table.\"\n",
       "              style=\"display:none;\">\n",
       "        \n",
       "  <svg xmlns=\"http://www.w3.org/2000/svg\" height=\"24px\"viewBox=\"0 0 24 24\"\n",
       "       width=\"24px\">\n",
       "    <path d=\"M0 0h24v24H0V0z\" fill=\"none\"/>\n",
       "    <path d=\"M18.56 5.44l.94 2.06.94-2.06 2.06-.94-2.06-.94-.94-2.06-.94 2.06-2.06.94zm-11 1L8.5 8.5l.94-2.06 2.06-.94-2.06-.94L8.5 2.5l-.94 2.06-2.06.94zm10 10l.94 2.06.94-2.06 2.06-.94-2.06-.94-.94-2.06-.94 2.06-2.06.94z\"/><path d=\"M17.41 7.96l-1.37-1.37c-.4-.4-.92-.59-1.43-.59-.52 0-1.04.2-1.43.59L10.3 9.45l-7.72 7.72c-.78.78-.78 2.05 0 2.83L4 21.41c.39.39.9.59 1.41.59.51 0 1.02-.2 1.41-.59l7.78-7.78 2.81-2.81c.8-.78.8-2.07 0-2.86zM5.41 20L4 18.59l7.72-7.72 1.47 1.35L5.41 20z\"/>\n",
       "  </svg>\n",
       "      </button>\n",
       "      \n",
       "  <style>\n",
       "    .colab-df-container {\n",
       "      display:flex;\n",
       "      flex-wrap:wrap;\n",
       "      gap: 12px;\n",
       "    }\n",
       "\n",
       "    .colab-df-convert {\n",
       "      background-color: #E8F0FE;\n",
       "      border: none;\n",
       "      border-radius: 50%;\n",
       "      cursor: pointer;\n",
       "      display: none;\n",
       "      fill: #1967D2;\n",
       "      height: 32px;\n",
       "      padding: 0 0 0 0;\n",
       "      width: 32px;\n",
       "    }\n",
       "\n",
       "    .colab-df-convert:hover {\n",
       "      background-color: #E2EBFA;\n",
       "      box-shadow: 0px 1px 2px rgba(60, 64, 67, 0.3), 0px 1px 3px 1px rgba(60, 64, 67, 0.15);\n",
       "      fill: #174EA6;\n",
       "    }\n",
       "\n",
       "    [theme=dark] .colab-df-convert {\n",
       "      background-color: #3B4455;\n",
       "      fill: #D2E3FC;\n",
       "    }\n",
       "\n",
       "    [theme=dark] .colab-df-convert:hover {\n",
       "      background-color: #434B5C;\n",
       "      box-shadow: 0px 1px 3px 1px rgba(0, 0, 0, 0.15);\n",
       "      filter: drop-shadow(0px 1px 2px rgba(0, 0, 0, 0.3));\n",
       "      fill: #FFFFFF;\n",
       "    }\n",
       "  </style>\n",
       "\n",
       "      <script>\n",
       "        const buttonEl =\n",
       "          document.querySelector('#df-421238fe-9818-42cc-a2b7-621a29355575 button.colab-df-convert');\n",
       "        buttonEl.style.display =\n",
       "          google.colab.kernel.accessAllowed ? 'block' : 'none';\n",
       "\n",
       "        async function convertToInteractive(key) {\n",
       "          const element = document.querySelector('#df-421238fe-9818-42cc-a2b7-621a29355575');\n",
       "          const dataTable =\n",
       "            await google.colab.kernel.invokeFunction('convertToInteractive',\n",
       "                                                     [key], {});\n",
       "          if (!dataTable) return;\n",
       "\n",
       "          const docLinkHtml = 'Like what you see? Visit the ' +\n",
       "            '<a target=\"_blank\" href=https://colab.research.google.com/notebooks/data_table.ipynb>data table notebook</a>'\n",
       "            + ' to learn more about interactive tables.';\n",
       "          element.innerHTML = '';\n",
       "          dataTable['output_type'] = 'display_data';\n",
       "          await google.colab.output.renderOutput(dataTable, element);\n",
       "          const docLink = document.createElement('div');\n",
       "          docLink.innerHTML = docLinkHtml;\n",
       "          element.appendChild(docLink);\n",
       "        }\n",
       "      </script>\n",
       "    </div>\n",
       "  </div>\n",
       "  "
      ],
      "text/plain": [
       "   Id                              Label\n",
       "0   0            /user/show/999171-anita\n",
       "1   1  /user/show/71848701-miranda-reads\n",
       "2   2       /user/show/14046996-roy-lotz\n",
       "3   3            /user/show/2050376-erin\n",
       "4   4            /user/show/279256-diane"
      ]
     },
     "execution_count": 65,
     "metadata": {},
     "output_type": "execute_result"
    }
   ],
   "source": [
    "import numpy as np\n",
    "lst=[]\n",
    "i=0\n",
    "for elem in link:\n",
    "    lst.append([i,elem])\n",
    "    i+=1\n",
    "df = pd.DataFrame(lst, columns = ['Id', 'Label'])\n",
    "df.to_csv('/content/drive/Shareddrives/Social Network Analysis/nodes.csv', index=False)\n",
    "df.head()"
   ]
  },
  {
   "cell_type": "code",
   "execution_count": null,
   "metadata": {
    "colab": {
     "base_uri": "https://localhost:8080/"
    },
    "executionInfo": {
     "elapsed": 271,
     "status": "ok",
     "timestamp": 1656942707244,
     "user": {
      "displayName": "SAVERIO TELERA",
      "userId": "04328358436638076279"
     },
     "user_tz": -120
    },
    "id": "vAGH2NVmlU00",
    "outputId": "b3c74b8b-3255-496c-a384-9b9491cba6e3"
   },
   "outputs": [
    {
     "data": {
      "text/plain": [
       "(20018, 2)"
      ]
     },
     "execution_count": 66,
     "metadata": {},
     "output_type": "execute_result"
    }
   ],
   "source": [
    "df.shape"
   ]
  },
  {
   "cell_type": "code",
   "execution_count": null,
   "metadata": {
    "colab": {
     "base_uri": "https://localhost:8080/",
     "height": 206
    },
    "executionInfo": {
     "elapsed": 6910,
     "status": "ok",
     "timestamp": 1656942715191,
     "user": {
      "displayName": "SAVERIO TELERA",
      "userId": "04328358436638076279"
     },
     "user_tz": -120
    },
    "id": "ukS7zniwlYoD",
    "outputId": "9add290d-c382-4d94-ed8d-2ed28ea887cd"
   },
   "outputs": [
    {
     "data": {
      "text/html": [
       "\n",
       "  <div id=\"df-3407f0f9-43c9-4b1f-9eee-ec089fcf666e\">\n",
       "    <div class=\"colab-df-container\">\n",
       "      <div>\n",
       "<style scoped>\n",
       "    .dataframe tbody tr th:only-of-type {\n",
       "        vertical-align: middle;\n",
       "    }\n",
       "\n",
       "    .dataframe tbody tr th {\n",
       "        vertical-align: top;\n",
       "    }\n",
       "\n",
       "    .dataframe thead th {\n",
       "        text-align: right;\n",
       "    }\n",
       "</style>\n",
       "<table border=\"1\" class=\"dataframe\">\n",
       "  <thead>\n",
       "    <tr style=\"text-align: right;\">\n",
       "      <th></th>\n",
       "      <th>Source</th>\n",
       "      <th>Target</th>\n",
       "      <th>Type</th>\n",
       "      <th>Weight</th>\n",
       "    </tr>\n",
       "  </thead>\n",
       "  <tbody>\n",
       "    <tr>\n",
       "      <th>0</th>\n",
       "      <td>/user/show/999171-anita</td>\n",
       "      <td>/user/show/71848701-miranda-reads</td>\n",
       "      <td>Undirected</td>\n",
       "      <td>0.000634</td>\n",
       "    </tr>\n",
       "    <tr>\n",
       "      <th>1</th>\n",
       "      <td>/user/show/999171-anita</td>\n",
       "      <td>/user/show/279256-diane</td>\n",
       "      <td>Undirected</td>\n",
       "      <td>0.001268</td>\n",
       "    </tr>\n",
       "    <tr>\n",
       "      <th>2</th>\n",
       "      <td>/user/show/999171-anita</td>\n",
       "      <td>/user/show/175635-trevor</td>\n",
       "      <td>Undirected</td>\n",
       "      <td>0.000951</td>\n",
       "    </tr>\n",
       "    <tr>\n",
       "      <th>3</th>\n",
       "      <td>/user/show/999171-anita</td>\n",
       "      <td>/user/show/1237196-petra-him-i-don-t-like-you-...</td>\n",
       "      <td>Undirected</td>\n",
       "      <td>0.001268</td>\n",
       "    </tr>\n",
       "    <tr>\n",
       "      <th>4</th>\n",
       "      <td>/user/show/999171-anita</td>\n",
       "      <td>/user/show/6257531-caroline</td>\n",
       "      <td>Undirected</td>\n",
       "      <td>0.000634</td>\n",
       "    </tr>\n",
       "  </tbody>\n",
       "</table>\n",
       "</div>\n",
       "      <button class=\"colab-df-convert\" onclick=\"convertToInteractive('df-3407f0f9-43c9-4b1f-9eee-ec089fcf666e')\"\n",
       "              title=\"Convert this dataframe to an interactive table.\"\n",
       "              style=\"display:none;\">\n",
       "        \n",
       "  <svg xmlns=\"http://www.w3.org/2000/svg\" height=\"24px\"viewBox=\"0 0 24 24\"\n",
       "       width=\"24px\">\n",
       "    <path d=\"M0 0h24v24H0V0z\" fill=\"none\"/>\n",
       "    <path d=\"M18.56 5.44l.94 2.06.94-2.06 2.06-.94-2.06-.94-.94-2.06-.94 2.06-2.06.94zm-11 1L8.5 8.5l.94-2.06 2.06-.94-2.06-.94L8.5 2.5l-.94 2.06-2.06.94zm10 10l.94 2.06.94-2.06 2.06-.94-2.06-.94-.94-2.06-.94 2.06-2.06.94z\"/><path d=\"M17.41 7.96l-1.37-1.37c-.4-.4-.92-.59-1.43-.59-.52 0-1.04.2-1.43.59L10.3 9.45l-7.72 7.72c-.78.78-.78 2.05 0 2.83L4 21.41c.39.39.9.59 1.41.59.51 0 1.02-.2 1.41-.59l7.78-7.78 2.81-2.81c.8-.78.8-2.07 0-2.86zM5.41 20L4 18.59l7.72-7.72 1.47 1.35L5.41 20z\"/>\n",
       "  </svg>\n",
       "      </button>\n",
       "      \n",
       "  <style>\n",
       "    .colab-df-container {\n",
       "      display:flex;\n",
       "      flex-wrap:wrap;\n",
       "      gap: 12px;\n",
       "    }\n",
       "\n",
       "    .colab-df-convert {\n",
       "      background-color: #E8F0FE;\n",
       "      border: none;\n",
       "      border-radius: 50%;\n",
       "      cursor: pointer;\n",
       "      display: none;\n",
       "      fill: #1967D2;\n",
       "      height: 32px;\n",
       "      padding: 0 0 0 0;\n",
       "      width: 32px;\n",
       "    }\n",
       "\n",
       "    .colab-df-convert:hover {\n",
       "      background-color: #E2EBFA;\n",
       "      box-shadow: 0px 1px 2px rgba(60, 64, 67, 0.3), 0px 1px 3px 1px rgba(60, 64, 67, 0.15);\n",
       "      fill: #174EA6;\n",
       "    }\n",
       "\n",
       "    [theme=dark] .colab-df-convert {\n",
       "      background-color: #3B4455;\n",
       "      fill: #D2E3FC;\n",
       "    }\n",
       "\n",
       "    [theme=dark] .colab-df-convert:hover {\n",
       "      background-color: #434B5C;\n",
       "      box-shadow: 0px 1px 3px 1px rgba(0, 0, 0, 0.15);\n",
       "      filter: drop-shadow(0px 1px 2px rgba(0, 0, 0, 0.3));\n",
       "      fill: #FFFFFF;\n",
       "    }\n",
       "  </style>\n",
       "\n",
       "      <script>\n",
       "        const buttonEl =\n",
       "          document.querySelector('#df-3407f0f9-43c9-4b1f-9eee-ec089fcf666e button.colab-df-convert');\n",
       "        buttonEl.style.display =\n",
       "          google.colab.kernel.accessAllowed ? 'block' : 'none';\n",
       "\n",
       "        async function convertToInteractive(key) {\n",
       "          const element = document.querySelector('#df-3407f0f9-43c9-4b1f-9eee-ec089fcf666e');\n",
       "          const dataTable =\n",
       "            await google.colab.kernel.invokeFunction('convertToInteractive',\n",
       "                                                     [key], {});\n",
       "          if (!dataTable) return;\n",
       "\n",
       "          const docLinkHtml = 'Like what you see? Visit the ' +\n",
       "            '<a target=\"_blank\" href=https://colab.research.google.com/notebooks/data_table.ipynb>data table notebook</a>'\n",
       "            + ' to learn more about interactive tables.';\n",
       "          element.innerHTML = '';\n",
       "          dataTable['output_type'] = 'display_data';\n",
       "          await google.colab.output.renderOutput(dataTable, element);\n",
       "          const docLink = document.createElement('div');\n",
       "          docLink.innerHTML = docLinkHtml;\n",
       "          element.appendChild(docLink);\n",
       "        }\n",
       "      </script>\n",
       "    </div>\n",
       "  </div>\n",
       "  "
      ],
      "text/plain": [
       "                    Source                                             Target  \\\n",
       "0  /user/show/999171-anita                  /user/show/71848701-miranda-reads   \n",
       "1  /user/show/999171-anita                            /user/show/279256-diane   \n",
       "2  /user/show/999171-anita                           /user/show/175635-trevor   \n",
       "3  /user/show/999171-anita  /user/show/1237196-petra-him-i-don-t-like-you-...   \n",
       "4  /user/show/999171-anita                        /user/show/6257531-caroline   \n",
       "\n",
       "         Type    Weight  \n",
       "0  Undirected  0.000634  \n",
       "1  Undirected  0.001268  \n",
       "2  Undirected  0.000951  \n",
       "3  Undirected  0.001268  \n",
       "4  Undirected  0.000634  "
      ]
     },
     "execution_count": 67,
     "metadata": {},
     "output_type": "execute_result"
    }
   ],
   "source": [
    "lst=[]\n",
    "for user in link:\n",
    "  for elem in list(link[user].keys()):\n",
    "    lst.append([user,elem,'Undirected',(link[user][elem])/len(num_book)]) #len(num_book)=3155, serve per pesare\n",
    "df1 = pd.DataFrame(lst, columns = ['Source','Target','Type','Weight'])\n",
    "df1.head()"
   ]
  },
  {
   "cell_type": "code",
   "execution_count": null,
   "metadata": {
    "colab": {
     "base_uri": "https://localhost:8080/"
    },
    "executionInfo": {
     "elapsed": 229,
     "status": "ok",
     "timestamp": 1656942716609,
     "user": {
      "displayName": "SAVERIO TELERA",
      "userId": "04328358436638076279"
     },
     "user_tz": -120
    },
    "id": "VKTK-QY5lmf6",
    "outputId": "affedb3e-167e-42db-c2d1-3fe0e1f5d714"
   },
   "outputs": [
    {
     "data": {
      "text/plain": [
       "(3526979, 4)"
      ]
     },
     "execution_count": 68,
     "metadata": {},
     "output_type": "execute_result"
    }
   ],
   "source": [
    "df1.shape"
   ]
  },
  {
   "cell_type": "code",
   "execution_count": null,
   "metadata": {
    "colab": {
     "base_uri": "https://localhost:8080/",
     "height": 206
    },
    "executionInfo": {
     "elapsed": 584,
     "status": "ok",
     "timestamp": 1656942718377,
     "user": {
      "displayName": "SAVERIO TELERA",
      "userId": "04328358436638076279"
     },
     "user_tz": -120
    },
    "id": "_s9yShwTl3At",
    "outputId": "a8ca7746-3211-4b90-a3bd-c18597674eb1"
   },
   "outputs": [
    {
     "data": {
      "text/html": [
       "\n",
       "  <div id=\"df-13f1d8be-5181-49e9-b8a2-5c1b4dba2fd0\">\n",
       "    <div class=\"colab-df-container\">\n",
       "      <div>\n",
       "<style scoped>\n",
       "    .dataframe tbody tr th:only-of-type {\n",
       "        vertical-align: middle;\n",
       "    }\n",
       "\n",
       "    .dataframe tbody tr th {\n",
       "        vertical-align: top;\n",
       "    }\n",
       "\n",
       "    .dataframe thead th {\n",
       "        text-align: right;\n",
       "    }\n",
       "</style>\n",
       "<table border=\"1\" class=\"dataframe\">\n",
       "  <thead>\n",
       "    <tr style=\"text-align: right;\">\n",
       "      <th></th>\n",
       "      <th>Source</th>\n",
       "      <th>Target</th>\n",
       "      <th>Type</th>\n",
       "      <th>Weight</th>\n",
       "    </tr>\n",
       "  </thead>\n",
       "  <tbody>\n",
       "    <tr>\n",
       "      <th>0</th>\n",
       "      <td>0</td>\n",
       "      <td>1</td>\n",
       "      <td>Undirected</td>\n",
       "      <td>0.000634</td>\n",
       "    </tr>\n",
       "    <tr>\n",
       "      <th>1</th>\n",
       "      <td>0</td>\n",
       "      <td>4</td>\n",
       "      <td>Undirected</td>\n",
       "      <td>0.001268</td>\n",
       "    </tr>\n",
       "    <tr>\n",
       "      <th>2</th>\n",
       "      <td>0</td>\n",
       "      <td>6</td>\n",
       "      <td>Undirected</td>\n",
       "      <td>0.000951</td>\n",
       "    </tr>\n",
       "    <tr>\n",
       "      <th>3</th>\n",
       "      <td>0</td>\n",
       "      <td>7</td>\n",
       "      <td>Undirected</td>\n",
       "      <td>0.001268</td>\n",
       "    </tr>\n",
       "    <tr>\n",
       "      <th>4</th>\n",
       "      <td>0</td>\n",
       "      <td>8</td>\n",
       "      <td>Undirected</td>\n",
       "      <td>0.000634</td>\n",
       "    </tr>\n",
       "  </tbody>\n",
       "</table>\n",
       "</div>\n",
       "      <button class=\"colab-df-convert\" onclick=\"convertToInteractive('df-13f1d8be-5181-49e9-b8a2-5c1b4dba2fd0')\"\n",
       "              title=\"Convert this dataframe to an interactive table.\"\n",
       "              style=\"display:none;\">\n",
       "        \n",
       "  <svg xmlns=\"http://www.w3.org/2000/svg\" height=\"24px\"viewBox=\"0 0 24 24\"\n",
       "       width=\"24px\">\n",
       "    <path d=\"M0 0h24v24H0V0z\" fill=\"none\"/>\n",
       "    <path d=\"M18.56 5.44l.94 2.06.94-2.06 2.06-.94-2.06-.94-.94-2.06-.94 2.06-2.06.94zm-11 1L8.5 8.5l.94-2.06 2.06-.94-2.06-.94L8.5 2.5l-.94 2.06-2.06.94zm10 10l.94 2.06.94-2.06 2.06-.94-2.06-.94-.94-2.06-.94 2.06-2.06.94z\"/><path d=\"M17.41 7.96l-1.37-1.37c-.4-.4-.92-.59-1.43-.59-.52 0-1.04.2-1.43.59L10.3 9.45l-7.72 7.72c-.78.78-.78 2.05 0 2.83L4 21.41c.39.39.9.59 1.41.59.51 0 1.02-.2 1.41-.59l7.78-7.78 2.81-2.81c.8-.78.8-2.07 0-2.86zM5.41 20L4 18.59l7.72-7.72 1.47 1.35L5.41 20z\"/>\n",
       "  </svg>\n",
       "      </button>\n",
       "      \n",
       "  <style>\n",
       "    .colab-df-container {\n",
       "      display:flex;\n",
       "      flex-wrap:wrap;\n",
       "      gap: 12px;\n",
       "    }\n",
       "\n",
       "    .colab-df-convert {\n",
       "      background-color: #E8F0FE;\n",
       "      border: none;\n",
       "      border-radius: 50%;\n",
       "      cursor: pointer;\n",
       "      display: none;\n",
       "      fill: #1967D2;\n",
       "      height: 32px;\n",
       "      padding: 0 0 0 0;\n",
       "      width: 32px;\n",
       "    }\n",
       "\n",
       "    .colab-df-convert:hover {\n",
       "      background-color: #E2EBFA;\n",
       "      box-shadow: 0px 1px 2px rgba(60, 64, 67, 0.3), 0px 1px 3px 1px rgba(60, 64, 67, 0.15);\n",
       "      fill: #174EA6;\n",
       "    }\n",
       "\n",
       "    [theme=dark] .colab-df-convert {\n",
       "      background-color: #3B4455;\n",
       "      fill: #D2E3FC;\n",
       "    }\n",
       "\n",
       "    [theme=dark] .colab-df-convert:hover {\n",
       "      background-color: #434B5C;\n",
       "      box-shadow: 0px 1px 3px 1px rgba(0, 0, 0, 0.15);\n",
       "      filter: drop-shadow(0px 1px 2px rgba(0, 0, 0, 0.3));\n",
       "      fill: #FFFFFF;\n",
       "    }\n",
       "  </style>\n",
       "\n",
       "      <script>\n",
       "        const buttonEl =\n",
       "          document.querySelector('#df-13f1d8be-5181-49e9-b8a2-5c1b4dba2fd0 button.colab-df-convert');\n",
       "        buttonEl.style.display =\n",
       "          google.colab.kernel.accessAllowed ? 'block' : 'none';\n",
       "\n",
       "        async function convertToInteractive(key) {\n",
       "          const element = document.querySelector('#df-13f1d8be-5181-49e9-b8a2-5c1b4dba2fd0');\n",
       "          const dataTable =\n",
       "            await google.colab.kernel.invokeFunction('convertToInteractive',\n",
       "                                                     [key], {});\n",
       "          if (!dataTable) return;\n",
       "\n",
       "          const docLinkHtml = 'Like what you see? Visit the ' +\n",
       "            '<a target=\"_blank\" href=https://colab.research.google.com/notebooks/data_table.ipynb>data table notebook</a>'\n",
       "            + ' to learn more about interactive tables.';\n",
       "          element.innerHTML = '';\n",
       "          dataTable['output_type'] = 'display_data';\n",
       "          await google.colab.output.renderOutput(dataTable, element);\n",
       "          const docLink = document.createElement('div');\n",
       "          docLink.innerHTML = docLinkHtml;\n",
       "          element.appendChild(docLink);\n",
       "        }\n",
       "      </script>\n",
       "    </div>\n",
       "  </div>\n",
       "  "
      ],
      "text/plain": [
       "   Source  Target        Type    Weight\n",
       "0       0       1  Undirected  0.000634\n",
       "1       0       4  Undirected  0.001268\n",
       "2       0       6  Undirected  0.000951\n",
       "3       0       7  Undirected  0.001268\n",
       "4       0       8  Undirected  0.000634"
      ]
     },
     "execution_count": 69,
     "metadata": {},
     "output_type": "execute_result"
    }
   ],
   "source": [
    "df1['Source'] = df1['Source'].map(df.set_index('Label')['Id'])\n",
    "df1['Target'] = df1['Target'].map(df.set_index('Label')['Id'])\n",
    "df1.head()\n",
    "#siano ringraziati gli indiani per sti replace rapidi"
   ]
  },
  {
   "cell_type": "code",
   "execution_count": null,
   "metadata": {
    "id": "eLL9F6u7l_a3"
   },
   "outputs": [],
   "source": [
    "df1.to_csv('/content/drive/Shareddrives/Social Network Analysis/edges.csv', index=False)"
   ]
  }
 ],
 "metadata": {
  "colab": {
   "collapsed_sections": [],
   "name": "1. Data_under_trans.ipynb",
   "provenance": []
  },
  "interpreter": {
   "hash": "31f2aee4e71d21fbe5cf8b01ff0e069b9275f58929596ceb00d14d90e3e16cd6"
  },
  "kernelspec": {
   "display_name": "Python 3 (ipykernel)",
   "language": "python",
   "name": "python3"
  },
  "language_info": {
   "codemirror_mode": {
    "name": "ipython",
    "version": 3
   },
   "file_extension": ".py",
   "mimetype": "text/x-python",
   "name": "python",
   "nbconvert_exporter": "python",
   "pygments_lexer": "ipython3",
   "version": "3.9.12"
  },
  "widgets": {
   "application/vnd.jupyter.widget-state+json": {
    "07c3786c51d94e85b43df8189ef4609c": {
     "model_module": "@jupyter-widgets/output",
     "model_module_version": "1.0.0",
     "model_name": "OutputModel",
     "state": {
      "_dom_classes": [],
      "_model_module": "@jupyter-widgets/output",
      "_model_module_version": "1.0.0",
      "_model_name": "OutputModel",
      "_view_count": null,
      "_view_module": "@jupyter-widgets/output",
      "_view_module_version": "1.0.0",
      "_view_name": "OutputView",
      "layout": "IPY_MODEL_b38b0c792e7145fe8a5063726abc11ad",
      "msg_id": "",
      "outputs": [
       {
        "data": {
         "text/html": "<pre style=\"white-space:pre;overflow-x:auto;line-height:normal;font-family:Menlo,'DejaVu Sans Mono',consolas,'Courier New',monospace\">ci sto provando... <span style=\"color: #729c1f; text-decoration-color: #729c1f\">━━━━━━━━━━━━━━━━━━━━━━━━━━━━━━━━━━━━━━━━</span> <span style=\"color: #800080; text-decoration-color: #800080\">100%</span> <span style=\"color: #008080; text-decoration-color: #008080\">0:00:00</span>\n</pre>\n",
         "text/plain": "ci sto provando... \u001b[38;2;114;156;31m━━━━━━━━━━━━━━━━━━━━━━━━━━━━━━━━━━━━━━━━\u001b[0m \u001b[35m100%\u001b[0m \u001b[36m0:00:00\u001b[0m\n"
        },
        "metadata": {},
        "output_type": "display_data"
       }
      ]
     }
    },
    "b38b0c792e7145fe8a5063726abc11ad": {
     "model_module": "@jupyter-widgets/base",
     "model_module_version": "1.2.0",
     "model_name": "LayoutModel",
     "state": {
      "_model_module": "@jupyter-widgets/base",
      "_model_module_version": "1.2.0",
      "_model_name": "LayoutModel",
      "_view_count": null,
      "_view_module": "@jupyter-widgets/base",
      "_view_module_version": "1.2.0",
      "_view_name": "LayoutView",
      "align_content": null,
      "align_items": null,
      "align_self": null,
      "border": null,
      "bottom": null,
      "display": null,
      "flex": null,
      "flex_flow": null,
      "grid_area": null,
      "grid_auto_columns": null,
      "grid_auto_flow": null,
      "grid_auto_rows": null,
      "grid_column": null,
      "grid_gap": null,
      "grid_row": null,
      "grid_template_areas": null,
      "grid_template_columns": null,
      "grid_template_rows": null,
      "height": null,
      "justify_content": null,
      "justify_items": null,
      "left": null,
      "margin": null,
      "max_height": null,
      "max_width": null,
      "min_height": null,
      "min_width": null,
      "object_fit": null,
      "object_position": null,
      "order": null,
      "overflow": null,
      "overflow_x": null,
      "overflow_y": null,
      "padding": null,
      "right": null,
      "top": null,
      "visibility": null,
      "width": null
     }
    }
   }
  }
 },
 "nbformat": 4,
 "nbformat_minor": 1
}
